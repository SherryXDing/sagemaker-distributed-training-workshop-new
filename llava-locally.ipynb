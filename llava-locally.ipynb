{
 "cells": [
  {
   "cell_type": "markdown",
   "id": "f8f76bd8-7de5-4082-bcab-83aa3800fdec",
   "metadata": {},
   "source": [
    "# Multimodal RAG with Llava on SageMaker\n",
    "In this notebook we'll implement a small-scale RAG system for multiple modalities. In particular we'll use the LlaVa with Mistral 7B model to generate summaries of all the images in our PDF files. Then we'll use those summaries as the basis for our index in a vector store.\n",
    "\n",
    "This was described in a LangChain cookbook available [here!](https://github.com/langchain-ai/langchain/blob/master/cookbook/Multi_modal_RAG.ipynb?ref=blog.langchain.dev) This notebook heavily relies on that source code, and modifies it to work with SageMaker Endpoints in Studio."
   ]
  },
  {
   "cell_type": "markdown",
   "id": "03ff765d-6100-4187-b9af-3529af50121c",
   "metadata": {},
   "source": [
    "You can upload a PDF document into a folder and specify the path and the filename below. Make sure to pick a paper with images, not just equations or tables. This way the `unstructured` library will generate new `.jpg` files in your current working directory."
   ]
  },
  {
   "cell_type": "markdown",
   "id": "6867e3d8-ad7d-4949-9fbe-a339f83dd8fa",
   "metadata": {
    "tags": []
   },
   "source": [
    "---\n",
    "#### Instance and endpoint requirements.\n",
    "1. In this notebook you're running a LlaVA model locally, so start by moving onto a development environment with access to accelerators. I'm using the `ml.g5.2xlarge.`\n",
    "2. Go create an endpoint in SageMaker Studio with a large language model for chat. I'm using Llama-2 70B Chat, this uses an `ml.g4.48xlarge`.\n",
    "3. Go create an endpoint in SageMaker Studio with an embedding model. I'm using a GPT-J 6B embedding model, which uses an `ml.g5.12xlarge`."
   ]
  },
  {
   "cell_type": "markdown",
   "id": "f670e4e1-6c61-4085-8578-ef759dd5d8d9",
   "metadata": {
    "tags": []
   },
   "source": [
    "### Step 1. Install requirements"
   ]
  },
  {
   "cell_type": "code",
   "execution_count": null,
   "id": "217ca177-3188-404b-a67c-e0b18b85c4cf",
   "metadata": {
    "tags": []
   },
   "outputs": [],
   "source": [
    "!pip install --upgrade pip"
   ]
  },
  {
   "cell_type": "code",
   "execution_count": null,
   "id": "15d3312c-71df-475d-8fc0-84ca3d77e1b6",
   "metadata": {
    "tags": []
   },
   "outputs": [],
   "source": [
    "%%writefile requirements.txt\n",
    "\n",
    "bitsandbytes\n",
    "torch\n",
    "transformers>=4.39.1\n",
    "accelerate\n",
    "langchain \n",
    "chromadb \n",
    "langchain-experimental \n",
    "unstructured[all-docs]\n",
    "pillow \n",
    "pydantic \n",
    "lxml \n",
    "pillow\n",
    "matplotlib \n",
    "tiktoken\n",
    "opencv-python-headless\n",
    "boto3>=1.34.23\n",
    "sqlalchemy\n",
    "flask-sqlalchemy"
   ]
  },
  {
   "cell_type": "code",
   "execution_count": 58,
   "id": "0e0ee944-6b6f-464f-b991-7b3873994b62",
   "metadata": {
    "tags": []
   },
   "outputs": [],
   "source": [
    "!pip install sqlalchemy"
   ]
  },
  {
   "cell_type": "code",
   "execution_count": null,
   "id": "5063c25e-1847-4428-b11d-63c961fefb21",
   "metadata": {
    "scrolled": true,
    "tags": []
   },
   "outputs": [],
   "source": [
    "!pip install -r requirements.txt"
   ]
  },
  {
   "cell_type": "code",
   "execution_count": null,
   "id": "79ecb562-7891-41fb-8c5a-8b4982b3e408",
   "metadata": {
    "tags": []
   },
   "outputs": [],
   "source": [
    "!apt-get update"
   ]
  },
  {
   "cell_type": "code",
   "execution_count": null,
   "id": "96ebd5eb-002c-4576-a75b-47c68d548896",
   "metadata": {
    "tags": []
   },
   "outputs": [],
   "source": [
    "!apt-get install libgl1"
   ]
  },
  {
   "cell_type": "code",
   "execution_count": null,
   "id": "082585f1-261d-495a-a9e0-3ee578597d0c",
   "metadata": {
    "tags": []
   },
   "outputs": [],
   "source": [
    "!apt-get install poppler-utils -y"
   ]
  },
  {
   "cell_type": "code",
   "execution_count": null,
   "id": "b9f9c460-0fe3-45cf-b8ae-4a53d3ee6999",
   "metadata": {
    "scrolled": true,
    "tags": []
   },
   "outputs": [],
   "source": [
    "!apt install tesseract-ocr -y"
   ]
  },
  {
   "cell_type": "markdown",
   "id": "18721f17-3c24-4194-99bd-2a7e888f3ec0",
   "metadata": {},
   "source": [
    "Now restart your Jupyter notebook kernel just to be sure you have the new packages."
   ]
  },
  {
   "cell_type": "code",
   "execution_count": null,
   "id": "85df2a81-2595-4791-9bce-0912589222d5",
   "metadata": {
    "tags": []
   },
   "outputs": [],
   "source": [
    "import os\n",
    "os._exit(00)"
   ]
  },
  {
   "cell_type": "code",
   "execution_count": null,
   "id": "d5d45395-2a41-448d-91c0-7edc02d4e882",
   "metadata": {
    "tags": []
   },
   "outputs": [],
   "source": [
    "import transformers\n",
    "\n",
    "transformers.__version__"
   ]
  },
  {
   "cell_type": "markdown",
   "id": "b721eb9f-c286-42bc-8856-d70f05808520",
   "metadata": {},
   "source": [
    "Make sure you have at least Transformers 4.39.1"
   ]
  },
  {
   "cell_type": "code",
   "execution_count": null,
   "id": "87e0ae88-bbee-442f-ab72-af9571c24d9a",
   "metadata": {
    "tags": []
   },
   "outputs": [],
   "source": [
    "from unstructured.partition.pdf import partition_pdf"
   ]
  },
  {
   "cell_type": "markdown",
   "id": "5e5da54d-2537-4178-8867-15411224193c",
   "metadata": {},
   "source": [
    "This package can be tricky, you need to be able to use it to break the PDF's into parts to use in the RAG system we're building. Make sure you can import this function successfully before continuing."
   ]
  },
  {
   "cell_type": "markdown",
   "id": "4778fbdf-da82-495a-9fb3-87aa0e452198",
   "metadata": {
    "tags": []
   },
   "source": [
    "### Step 2. Download LlaVA locally and test."
   ]
  },
  {
   "cell_type": "code",
   "execution_count": 2,
   "id": "4be90cfa-de61-40af-9d88-e5fefc94aa1f",
   "metadata": {
    "tags": []
   },
   "outputs": [
    {
     "name": "stderr",
     "output_type": "stream",
     "text": [
      "Special tokens have been added in the vocabulary, make sure the associated word embeddings are fine-tuned or trained.\n",
      "The `load_in_4bit` and `load_in_8bit` arguments are deprecated and will be removed in the future versions. Please, pass a `BitsAndBytesConfig` object in `quantization_config` argument instead.\n"
     ]
    },
    {
     "data": {
      "application/vnd.jupyter.widget-view+json": {
       "model_id": "96725ec2636c46c993b80f1ac56882f3",
       "version_major": 2,
       "version_minor": 0
      },
      "text/plain": [
       "Loading checkpoint shards:   0%|          | 0/4 [00:00<?, ?it/s]"
      ]
     },
     "metadata": {},
     "output_type": "display_data"
    }
   ],
   "source": [
    "from transformers import LlavaNextProcessor, LlavaNextForConditionalGeneration\n",
    "import torch\n",
    "from PIL import Image\n",
    "import requests\n",
    "\n",
    "processor = LlavaNextProcessor.from_pretrained(\"llava-hf/llava-v1.6-mistral-7b-hf\")\n",
    "\n",
    "llava_model = LlavaNextForConditionalGeneration.from_pretrained(\n",
    "    \"llava-hf/llava-v1.6-mistral-7b-hf\", \n",
    "    torch_dtype=torch.float16, \n",
    "    low_cpu_mem_usage=True,\n",
    "    load_in_4bit=True\n",
    ")"
   ]
  },
  {
   "cell_type": "code",
   "execution_count": null,
   "id": "21850461-e4c5-46a1-96d7-d62c1dc0818d",
   "metadata": {
    "tags": []
   },
   "outputs": [],
   "source": [
    "!wget https://raw.githubusercontent.com/haotian-liu/LLaVA/1a91fc274d7c35a9b50b3cb29c4247ae5837ce39/images/llava_v1_5_radar.jpg "
   ]
  },
  {
   "cell_type": "markdown",
   "id": "8b26ee5d-c857-4518-9068-281e4fb9b2a6",
   "metadata": {
    "tags": []
   },
   "source": [
    "![img](llava_v1_5_radar.jpg)"
   ]
  },
  {
   "cell_type": "markdown",
   "id": "3abdbb37-4e81-45b0-9fab-9be48def2ac8",
   "metadata": {},
   "source": [
    "LlaVa seems to be able to answer only the most basic questions about this image, such as what is shown in the image and what it means. LlaVa is clearly not able to answer questions about interpreting the plot, such as identifying which models perform the highest and the lowest in terms of overall surface area."
   ]
  },
  {
   "cell_type": "code",
   "execution_count": 3,
   "id": "4aa23c25-6d39-429a-a2db-7bfb92f8bec9",
   "metadata": {
    "tags": []
   },
   "outputs": [
    {
     "name": "stderr",
     "output_type": "stream",
     "text": [
      "Setting `pad_token_id` to `eos_token_id`:2 for open-end generation.\n",
      "/opt/conda/lib/python3.10/site-packages/bitsandbytes/nn/modules.py:391: UserWarning: Input type into Linear4bit is torch.float16, but bnb_4bit_compute_dtype=torch.float32 (default). This will lead to slow inference or training speed.\n",
      "  warnings.warn('Input type into Linear4bit is torch.float16, but bnb_4bit_compute_dtype=torch.float32 (default). This will lead to slow inference or training speed.')\n"
     ]
    },
    {
     "name": "stdout",
     "output_type": "stream",
     "text": [
      "[INST]  \n",
      "What is shown in this image? [/INST] The image appears to be a radar chart, which is a type of multi-dimensional plot that displays values for multiple quantitative variables represented on axes starting from the same point. This particular radar chart is showing the performance of various models or systems across different metrics or datasets.\n",
      "\n",
      "The chart is divided into several sections, each representing a different model or dataset. The axes represent different metrics or datasets, such as \"MMM-Vet,\" \"MMM-Bench,\" \"L\n"
     ]
    }
   ],
   "source": [
    "# prepare image and text prompt, using the appropriate prompt template\n",
    "image_fp = 'llava_v1_5_radar.jpg'\n",
    "\n",
    "image = Image.open(image_fp)\n",
    "\n",
    "# correct \n",
    "prompt = \"[INST] <image>\\nWhat is shown in this image? [/INST]\"\n",
    "\n",
    "# correct\n",
    "# prompt = \"[INST] <image>\\ What is the meaning of this image? [/INST]\"\n",
    "\n",
    "# wrong\n",
    "# prompt = \"[INST] <image>\\ Which model covers the most surface area in this plot? [/INST]\"\n",
    "\n",
    "# wrong\n",
    "# prompt = \"[INST] <image>\\ Which models are shown in the legend in this plot?[/INST]\"\n",
    "\n",
    "# wrong \n",
    "# prompt = \"[INST] <image>\\ What model has the least surface area in this plot? [/INST]\"\n",
    "\n",
    "\n",
    "inputs = processor(prompt, image, return_tensors=\"pt\").to(\"cuda:0\")\n",
    "\n",
    "# autoregressively complete prompt\n",
    "output = llava_model.generate(**inputs, max_new_tokens=100)\n",
    "\n",
    "print(processor.decode(output[0], skip_special_tokens=True))\n"
   ]
  },
  {
   "cell_type": "markdown",
   "id": "1f152f04-9926-4e7b-89e8-9b2ea1fbba85",
   "metadata": {
    "tags": []
   },
   "source": [
    "### Step 3. Ingest PDFs using `unstructured`\n",
    "Next we'll ingest a variety of PDF's using an open-source Python library. This will create new `.jpg` files for each image it identifies in the pdf files. This will show up in a new folder, in this current working directory, called `figures`."
   ]
  },
  {
   "cell_type": "code",
   "execution_count": 4,
   "id": "6b0f913d-77e6-440a-9b59-bce8222fed0e",
   "metadata": {
    "tags": []
   },
   "outputs": [],
   "source": [
    "from langchain_text_splitters import CharacterTextSplitter\n",
    "from unstructured.partition.pdf import partition_pdf\n",
    "\n",
    "# Extract elements from PDF\n",
    "def extract_pdf_elements(path, fname):\n",
    "    \"\"\"\n",
    "    Extract images, tables, and chunk text from a PDF file.\n",
    "    path: File path, which is used to dump images (.jpg)\n",
    "    fname: File name\n",
    "    \"\"\"\n",
    "    return partition_pdf(\n",
    "        filename=path + fname,\n",
    "        extract_images_in_pdf=True,\n",
    "        infer_table_structure=True,\n",
    "        chunking_strategy=\"by_title\",\n",
    "        max_characters=4000,\n",
    "        new_after_n_chars=3800,\n",
    "        combine_text_under_n_chars=2000,\n",
    "        image_output_dir_path=path,\n",
    "    )\n",
    "\n",
    "\n",
    "# Categorize elements by type\n",
    "def categorize_elements(raw_pdf_elements):\n",
    "    \"\"\"\n",
    "    Categorize extracted elements from a PDF into tables and texts.\n",
    "    raw_pdf_elements: List of unstructured.documents.elements\n",
    "    \"\"\"\n",
    "    tables = []\n",
    "    texts = []\n",
    "    for element in raw_pdf_elements:\n",
    "        if \"unstructured.documents.elements.Table\" in str(type(element)):\n",
    "            tables.append(str(element))\n",
    "        elif \"unstructured.documents.elements.CompositeElement\" in str(type(element)):\n",
    "            texts.append(str(element))\n",
    "    return texts, tables\n"
   ]
  },
  {
   "cell_type": "code",
   "execution_count": 59,
   "id": "b4313f1f-cbd7-4dfc-8e51-d35c5ad7472b",
   "metadata": {
    "tags": []
   },
   "outputs": [],
   "source": [
    "# File path\n",
    "fpath = \"../papers/\"\n",
    "fname = \"meaning.pdf\"\n",
    "\n",
    "# # Get elements\n",
    "raw_pdf_elements = extract_pdf_elements(fpath, fname)"
   ]
  },
  {
   "cell_type": "code",
   "execution_count": 6,
   "id": "0cfa6d23-de83-4d14-9a36-4d610f288cb2",
   "metadata": {
    "tags": []
   },
   "outputs": [],
   "source": [
    "# # Get text, tables\n",
    "texts, tables = categorize_elements(raw_pdf_elements)\n",
    "\n",
    "# # Optional: Enforce a specific token size for texts. \n",
    "# Make sure to pick something that fits in the context window of your model\n",
    "text_splitter = CharacterTextSplitter.from_tiktoken_encoder(\n",
    "    chunk_size=2000, chunk_overlap=0\n",
    ")\n",
    "joined_texts = \" \".join(texts)\n",
    "texts_4k_token = text_splitter.split_text(joined_texts)"
   ]
  },
  {
   "cell_type": "code",
   "execution_count": 22,
   "id": "932c26c3-3566-49ac-bdb0-385d14e9fc45",
   "metadata": {
    "tags": []
   },
   "outputs": [
    {
     "data": {
      "text/plain": [
       "'3 2 0 2\\n\\nv o N 9 2 ] L C . s c [\\n\\n3 v 8 4 3 8 1 . 0 1 3 2 : v i X r a\\n\\nMEANING REPRESENTATIONS FROM TRAJECTORIES IN AUTOREGRESSIVE MODELS Pramuditha Perera AWS AI Labs2 Luca Zancato AWS AI Labs2\\n\\nStefano Soatto AWS AI Labs2\\n\\nABSTRACT\\n\\nWe propose to extract meaning representations from autoregressive language models by considering the distribution of all possible trajectories extending an input text. This strategy is prompt-free, does not require fine-tuning, and is applicable to any pre-trained '"
      ]
     },
     "execution_count": 22,
     "metadata": {},
     "output_type": "execute_result"
    }
   ],
   "source": [
    "texts_4k_token[0][:500]"
   ]
  },
  {
   "cell_type": "markdown",
   "id": "da2c528c-b209-40df-b63d-56cea81ca71b",
   "metadata": {
    "tags": []
   },
   "source": [
    "### Step 4. Initialize LangChain with a SageMaker endpoint and generate text summaries.\n",
    "Now open up SageMaker Studio and select your preferred LLM for summarization. I'll use Llama-2 70B Chat.\n",
    "\n",
    "You'll need to paste the endpoint name and the inference component name into the cell below. If you can't find the inference component name, look in SageMaker Studio, then test the endpoint in the UI directly. This should give you a box with the input and output JSON objects, and the inference component name should be there. Test the inference, and then click \"Show Request\" in the box on the right. This should have both the endpoint name and the inference component name."
   ]
  },
  {
   "cell_type": "code",
   "execution_count": 24,
   "id": "d6e621e7-d450-4d39-b57b-538c650bde2d",
   "metadata": {
    "tags": []
   },
   "outputs": [],
   "source": [
    "from langchain import SagemakerEndpoint\n",
    "from langchain_core.prompts import ChatPromptTemplate\n",
    "from langchain_core.output_parsers import StrOutputParser\n",
    "from langchain.llms.sagemaker_endpoint import LLMContentHandler\n",
    "import os\n",
    "import json"
   ]
  },
  {
   "cell_type": "code",
   "execution_count": 25,
   "id": "07d1417c-2d44-4166-a325-dc129fe8b536",
   "metadata": {
    "tags": []
   },
   "outputs": [],
   "source": [
    "class ContentHandler(LLMContentHandler):\n",
    "    content_type = \"application/json\"\n",
    "    accepts = \"application/json\"\n",
    "\n",
    "    def transform_input(self, prompt: str, model_kwargs: dict) -> bytes:\n",
    "        input_str = json.dumps({\"inputs\": prompt, \"parameters\": model_kwargs})\n",
    "        return input_str.encode('utf-8')\n",
    "    \n",
    "    def transform_output(self, output: bytes) -> str:\n",
    "        response_json = json.loads(output.read().decode(\"utf-8\"))\n",
    "        # this output is built to match Llama 2\n",
    "        return response_json[0][\"generated_text\"]\n"
   ]
  },
  {
   "cell_type": "code",
   "execution_count": 26,
   "id": "3fd8201c-5036-4d04-8867-709268472322",
   "metadata": {
    "tags": []
   },
   "outputs": [
    {
     "name": "stdout",
     "output_type": "stream",
     "text": [
      "sagemaker.config INFO - Not applying SDK defaults from location: /etc/xdg/sagemaker/config.yaml\n",
      "sagemaker.config INFO - Not applying SDK defaults from location: /root/.config/sagemaker/config.yaml\n"
     ]
    }
   ],
   "source": [
    "import sagemaker\n",
    "import boto3\n",
    "\n",
    "role = sagemaker.get_execution_role()\n",
    "\n",
    "client = boto3.client('sagemaker-runtime')\n",
    "\n",
    "template = '''You are an assistant tasked with summarizing tables and text for retrieval. \\\n",
    "    These summaries will be embedded and used to retrieve the raw text or table elements. \\\n",
    "    Give a concise summary of the table or text that is well optimized for retrieval. Table or text: {element} '''\n",
    "\n",
    "prompt = ChatPromptTemplate.from_template(template)\n",
    "\n",
    "content_handler = ContentHandler()\n",
    "\n",
    "model = SagemakerEndpoint(\n",
    "     endpoint_name = 'jumpstart-dft-meta-textgeneration-l-20240328-173404',\n",
    "     client = client,\n",
    "     model_kwargs={\"max_new_tokens\": 256, \"top_p\": 0.9, \"temperature\": 0.6},\n",
    "     endpoint_kwargs={\"CustomAttributes\": \"accept_eula=true\",\n",
    "                     \"InferenceComponentName\": \"meta-textgeneration-llama-2-70b-f-20240328-173405\"},\n",
    "     content_handler=content_handler\n",
    " )\n",
    "\n",
    "summarize_chain = {\"element\": lambda x: x} | prompt | model | StrOutputParser()\n"
   ]
  },
  {
   "cell_type": "code",
   "execution_count": 28,
   "id": "e620d92a-7974-44ea-a6fe-17d680528774",
   "metadata": {
    "tags": []
   },
   "outputs": [
    {
     "data": {
      "text/plain": [
       "\" I'm doing well, thanks for asking! I'm here to help answer any questions you might have, so feel free to ask me anything. I'm a large language model, so I can provide information on a wide range of topics, from science and history to entertainment and culture. I'm constantly learning and improving, so I can provide accurate and up-to-date information. I'm also designed to be friendly and approachable, so don't hesitate to ask me anything that's on your mind. So, what can I help you with today?\""
      ]
     },
     "execution_count": 28,
     "metadata": {},
     "output_type": "execute_result"
    }
   ],
   "source": [
    "# check to make sure your connection to the chat model is healthy\n",
    "model.invoke('Hi there LLM, how are you doing today?')"
   ]
  },
  {
   "cell_type": "code",
   "execution_count": 29,
   "id": "c06555a0-b0fb-4d63-9336-27eed69dc972",
   "metadata": {
    "tags": []
   },
   "outputs": [],
   "source": [
    "# Generate summaries of text elements\n",
    " \n",
    "def generate_text_summaries(texts, tables, summarize_chain, summarize_texts=False):\n",
    "    \"\"\"\n",
    "    Summarize text elements\n",
    "    texts: List of str\n",
    "    tables: List of str\n",
    "    summarize_texts: Bool to summarize texts\n",
    "    \"\"\"\n",
    "    # Initialize empty summaries\n",
    "    text_summaries = []\n",
    "    table_summaries = []\n",
    "\n",
    "    # Apply to text if texts are provided and summarization is requested\n",
    "    if texts and summarize_texts:\n",
    "        text_summaries = summarize_chain.batch(texts, {\"max_concurrency\": 5})\n",
    "        \n",
    "    elif texts:\n",
    "        text_summaries = texts\n",
    "\n",
    "    # Apply to tables if tables are provided\n",
    "    if tables:\n",
    "        table_summaries = summarize_chain.batch(tables, {\"max_concurrency\": 5})\n",
    "\n",
    "    return text_summaries, table_summaries"
   ]
  },
  {
   "cell_type": "code",
   "execution_count": 30,
   "id": "cecd6af6-d204-4dcd-a067-6e052aa21493",
   "metadata": {
    "tags": []
   },
   "outputs": [],
   "source": [
    "# Get text, table summaries\n",
    "text_summaries, table_summaries = generate_text_summaries(\n",
    "    texts_4k_token, tables, summarize_chain, summarize_texts=True\n",
    ")"
   ]
  },
  {
   "cell_type": "code",
   "execution_count": 31,
   "id": "254ae503-28db-4eef-8564-1494f406ec95",
   "metadata": {
    "tags": []
   },
   "outputs": [
    {
     "data": {
      "text/plain": [
       "'1.0 0.8 0.6 0.4 0.2 0.0 -0.2 -0.4 -0.6 -0.8 -1.0 Similarity Dissimilarity 1.0 0.8 0.6 0.4 0.2 0.0 -0.2 -0.4 -0.6 -0.8 -1.0 Similarity Dissimilarity Figure 1: Comparison of semantic similarity and dissimilarity between two sentences using our method. We sample 10-20 trajectories for each input sentence and compute the likelihood score for each pair of trajectories. The left panel shows the similarity between two sentences, and the right panel shows the dissimilarity. The scores are normalized to have a mean of 0 and a standard deviation of 1.\\n\\nWe represent sentences as the distribution of their possible continuations, or trajectories. This allows us to capture the meaning of sentences in a way that is not possible with traditional vector space representations. We show that our method achieves competitive performance on semantic similarity tasks and outperforms other zero-shot and prompt-free methods.'"
      ]
     },
     "execution_count": 31,
     "metadata": {},
     "output_type": "execute_result"
    }
   ],
   "source": [
    "text_summaries[0]"
   ]
  },
  {
   "cell_type": "markdown",
   "id": "c00e7e03-6d93-466d-808f-61f7a840aed8",
   "metadata": {
    "tags": []
   },
   "source": [
    "### Step 5. Use the local Llava model to create image summaries\n",
    "Next we'll loop through the `.jpg` files generated by `unstructured` in your folder, and send these to the local Llava model. Specifically we'll rewrite the `image_summarize` function to point to a local model."
   ]
  },
  {
   "cell_type": "code",
   "execution_count": 32,
   "id": "7129d652-c284-4f0f-9d95-8f49693b40c6",
   "metadata": {},
   "outputs": [],
   "source": [
    "import os\n",
    "from langchain_core.messages import HumanMessage\n",
    "import base64\n",
    "\n",
    "def image_summarize(llava_model, image_path, prompt):\n",
    "    \n",
    "    image = Image.open(image_path)\n",
    "\n",
    "    inputs = processor(prompt, image, return_tensors=\"pt\").to(\"cuda:0\")\n",
    "\n",
    "    # autoregressively complete prompt\n",
    "    output = llava_model.generate(**inputs, max_new_tokens=200)\n",
    "\n",
    "    msg = processor.decode(output[0], skip_special_tokens=True)\n",
    "    \n",
    "    return msg\n",
    "\n",
    "def encode_image(image_path):\n",
    "    \"\"\"Getting the base64 string\"\"\"\n",
    "    with open(image_path, \"rb\") as image_file:\n",
    "        return base64.b64encode(image_file.read()).decode(\"utf-8\")"
   ]
  },
  {
   "cell_type": "code",
   "execution_count": 60,
   "id": "c913860d-3695-4a72-9eaf-6a83adaa61ed",
   "metadata": {
    "tags": []
   },
   "outputs": [],
   "source": [
    "def generate_img_summaries(path, llava_model):\n",
    "    \"\"\"\n",
    "    Generate summaries and base64 encoded strings for images\n",
    "    path: Path to list of .jpg files extracted by Unstructured\n",
    "    \"\"\"\n",
    "\n",
    "    # Store base64 encoded images\n",
    "    img_base64_list = []\n",
    "\n",
    "    # Store image summaries\n",
    "    image_summaries = []\n",
    "\n",
    "    # Prompt\n",
    "    prompt = \"[INST] <image> You are an assistant tasked with summarizing images for retrieval. \\\n",
    "            These summaries will be embedded and used to retrieve the raw image. \\\n",
    "            Give a concise summary of the image that is well optimized for retrieval. [/INST]\"\n",
    "\n",
    "    # Apply to images\n",
    "    for img_file in sorted(os.listdir(path)):\n",
    "        if img_file.endswith(\".jpg\"):\n",
    "            img_path = os.path.join(path, img_file)\n",
    "            base64_image = encode_image(img_path)\n",
    "            img_base64_list.append(base64_image)\n",
    "            image_summaries.append(image_summarize(llava_model, img_path, prompt))\n",
    "\n",
    "    return img_base64_list, image_summaries\n",
    "\n",
    "\n",
    "# Image summaries\n",
    "img_base64_list, image_summaries = generate_img_summaries('figures', llava_model)"
   ]
  },
  {
   "cell_type": "code",
   "execution_count": 37,
   "id": "d495bdfa-32f8-42f2-b4f5-1cf82b63c507",
   "metadata": {
    "tags": []
   },
   "outputs": [
    {
     "data": {
      "text/plain": [
       "' The image displays two bar graphs, each representing different data sets. The left graph is labeled \"Number of Trajectories (n)\" and shows a series of bars in various colors, each corresponding to a different trajectory. The right graph is labeled \"Temperature (a)\" and features a series of bars in a different color scheme, also representing different trajectories. The bars in both graphs are of varying heights, indicating different values for the respective data sets. The graphs are informative and appear to be part of a scientific or technical presentation. '"
      ]
     },
     "execution_count": 37,
     "metadata": {},
     "output_type": "execute_result"
    }
   ],
   "source": [
    "# make sure the image summaries look valid\n",
    "image_summaries[0].split('[/INST]')[1]"
   ]
  },
  {
   "cell_type": "markdown",
   "id": "e9c460e7-e98b-4f4c-98c9-ddf8cc742528",
   "metadata": {
    "tags": []
   },
   "source": [
    "### Step 6. Create a mult-vector retrieval store\n",
    "Next, we'll create a vector store and add the documents to this. This will store the raw text, tables, and images in the `docstore`. Then we'll store the texts, table summaries, and image summaries in the `vectorstore`.\n",
    "\n",
    "To do this, we'll need to deploy an embedding model on SageMaker JumpStart. For this, simply navigate to SageMaker Studio, and select JumpStart. Within JumpStart, you can use the HuggingFace `gpt-j-6b` model. Deploy this to an endpoint, and paste the name of this resource below."
   ]
  },
  {
   "cell_type": "code",
   "execution_count": 40,
   "id": "a01558b0-b6d4-4b02-bf6d-fca7a25536b7",
   "metadata": {
    "tags": []
   },
   "outputs": [],
   "source": [
    "import uuid\n",
    "\n",
    "from langchain.retrievers.multi_vector import MultiVectorRetriever\n",
    "from langchain.storage import InMemoryStore\n",
    "from langchain_community.vectorstores import Chroma\n",
    "from langchain_core.documents import Document"
   ]
  },
  {
   "cell_type": "code",
   "execution_count": 41,
   "id": "d19087c1-6dba-4543-82d7-0982c360e0a2",
   "metadata": {
    "tags": []
   },
   "outputs": [],
   "source": [
    "import json\n",
    "from typing import Dict, List\n",
    "\n",
    "from langchain_community.embeddings import SagemakerEndpointEmbeddings\n",
    "from langchain_community.embeddings.sagemaker_endpoint import EmbeddingsContentHandler\n",
    "\n",
    "class ContentHandler(EmbeddingsContentHandler):\n",
    "    content_type = \"application/json\"\n",
    "    accepts = \"application/json\"\n",
    "\n",
    "    def transform_input(self, inputs: list[str], model_kwargs: Dict) -> bytes:\n",
    "        \"\"\"\n",
    "        Transforms the input into bytes that can be consumed by SageMaker endpoint.\n",
    "        Args:\n",
    "            text_inputs: List of input strings.\n",
    "            model_kwargs: Additional keyword arguments to be passed to the endpoint.\n",
    "        Returns:\n",
    "            The transformed bytes input.\n",
    "        \"\"\"\n",
    "        # Example: inference.py expects a JSON string with a \"inputs\" key:\n",
    "        input_str = json.dumps({\"text_inputs\": inputs, **model_kwargs})\n",
    "        return input_str.encode(\"utf-8\")\n",
    "\n",
    "    def transform_output(self, output: bytes) -> List[List[float]]:\n",
    "        \"\"\"\n",
    "        Transforms the bytes output from the endpoint into a list of embeddings.\n",
    "        Args:\n",
    "            output: The bytes output from SageMaker endpoint.\n",
    "        Returns:\n",
    "            The transformed output - list of embeddings\n",
    "        Note:\n",
    "            The length of the outer list is the number of input strings.\n",
    "            The length of the inner lists is the embedding dimension.\n",
    "        \"\"\"\n",
    "        # Example: inference.py returns a JSON string with the list of\n",
    "        # embeddings in a \"vectors\" key:\n",
    "        model_predictions = json.loads(output.read())\n",
    "        embeddings = model_predictions['embedding']\n",
    "        return embeddings\n",
    "\n",
    "client = boto3.client(\n",
    "    \"sagemaker-runtime\"\n",
    ")\n",
    "embeddings = SagemakerEndpointEmbeddings(\n",
    "    endpoint_name=\"jumpstart-dft-hf-textembedding-gpt-20240328-181051\",\n",
    "    client=client,\n",
    "    content_handler=ContentHandler(),\n",
    ")"
   ]
  },
  {
   "cell_type": "code",
   "execution_count": 42,
   "id": "a983eb9a-ffa3-4507-ae34-43798c2433e1",
   "metadata": {
    "tags": []
   },
   "outputs": [],
   "source": [
    "def create_multi_vector_retriever(\n",
    "    vectorstore, text_summaries, texts, table_summaries, tables, image_summaries, images\n",
    "):\n",
    "    \"\"\"\n",
    "    Create retriever that indexes summaries, but returns raw images or texts\n",
    "    \"\"\"\n",
    "\n",
    "    # Initialize the storage layer\n",
    "    store = InMemoryStore()\n",
    "    id_key = \"doc_id\"\n",
    "\n",
    "    # Create the multi-vector retriever\n",
    "    retriever = MultiVectorRetriever(\n",
    "        vectorstore=vectorstore,\n",
    "        docstore=store,\n",
    "        id_key=id_key,\n",
    "    )\n",
    "\n",
    "    # Helper function to add documents to the vectorstore and docstore\n",
    "    def add_documents(retriever, doc_summaries, doc_contents):\n",
    "        doc_ids = [str(uuid.uuid4()) for _ in doc_contents]\n",
    "        summary_docs = [\n",
    "            Document(page_content=s, metadata={id_key: doc_ids[i]})\n",
    "            for i, s in enumerate(doc_summaries)\n",
    "        ]\n",
    "        retriever.vectorstore.add_documents(summary_docs)\n",
    "        retriever.docstore.mset(list(zip(doc_ids, doc_contents)))\n",
    "\n",
    "    # Add texts, tables, and images\n",
    "    # Check that text_summaries is not empty before adding\n",
    "    if text_summaries:\n",
    "        add_documents(retriever, text_summaries, texts)\n",
    "    # Check that table_summaries is not empty before adding\n",
    "    if table_summaries:\n",
    "        add_documents(retriever, table_summaries, tables)\n",
    "    # Check that image_summaries is not empty before adding\n",
    "    if image_summaries:\n",
    "        add_documents(retriever, image_summaries, images)\n",
    "\n",
    "    return retriever"
   ]
  },
  {
   "cell_type": "code",
   "execution_count": 43,
   "id": "b2540cb7-72b1-4867-9295-f74fc8bd0369",
   "metadata": {
    "tags": []
   },
   "outputs": [],
   "source": [
    "# The vectorstore to use to index the summaries\n",
    "vectorstore = Chroma(\n",
    "    collection_name=\"llava-rag-sagemaker\", embedding_function=embeddings\n",
    ")\n",
    "\n",
    "# Create retriever\n",
    "retriever_multi_vector_img = create_multi_vector_retriever(\n",
    "    vectorstore,\n",
    "    text_summaries,\n",
    "    texts,\n",
    "    table_summaries,\n",
    "    tables,\n",
    "    image_summaries,\n",
    "    img_base64_list,\n",
    ")"
   ]
  },
  {
   "cell_type": "code",
   "execution_count": 44,
   "id": "7bf1711c-5a40-4b91-bae8-23138f04c0ba",
   "metadata": {
    "tags": []
   },
   "outputs": [
    {
     "data": {
      "text/plain": [
       "<langchain_community.vectorstores.chroma.Chroma at 0x7ff852f97340>"
      ]
     },
     "execution_count": 44,
     "metadata": {},
     "output_type": "execute_result"
    }
   ],
   "source": [
    "vectorstore"
   ]
  },
  {
   "cell_type": "code",
   "execution_count": 45,
   "id": "468c4d7c-384d-4a44-9fcb-d1a7d94df2ef",
   "metadata": {
    "tags": []
   },
   "outputs": [
    {
     "data": {
      "text/plain": [
       "MultiVectorRetriever(vectorstore=<langchain_community.vectorstores.chroma.Chroma object at 0x7ff852f97340>, docstore=<langchain.storage.in_memory.InMemoryBaseStore object at 0x7ff852f95570>)"
      ]
     },
     "execution_count": 45,
     "metadata": {},
     "output_type": "execute_result"
    }
   ],
   "source": [
    "retriever_multi_vector_img"
   ]
  },
  {
   "cell_type": "markdown",
   "id": "06533c4b-39f3-4994-baa6-e8d98c123400",
   "metadata": {
    "tags": []
   },
   "source": [
    "### Step 7. Build the full retrieval-augmeneted generation workflow"
   ]
  },
  {
   "cell_type": "code",
   "execution_count": 46,
   "id": "1de3b70a-5858-4a09-8fcd-1a9e5d7090b0",
   "metadata": {
    "tags": []
   },
   "outputs": [],
   "source": [
    "import io\n",
    "import re\n",
    "\n",
    "from IPython.display import HTML, display\n",
    "from langchain_core.runnables import RunnableLambda, RunnablePassthrough\n",
    "from PIL import Image\n",
    "\n",
    "\n",
    "def plt_img_base64(img_base64):\n",
    "    \"\"\"Disply base64 encoded string as image\"\"\"\n",
    "    # Create an HTML img tag with the base64 string as the source\n",
    "    image_html = f'<img src=\"data:image/jpeg;base64,{img_base64}\" />'\n",
    "    # Display the image by rendering the HTML\n",
    "    display(HTML(image_html))\n",
    "\n",
    "\n",
    "def looks_like_base64(sb):\n",
    "    \"\"\"Check if the string looks like base64\"\"\"\n",
    "    return re.match(\"^[A-Za-z0-9+/]+[=]{0,2}$\", sb) is not None\n",
    "\n",
    "\n",
    "def is_image_data(b64data):\n",
    "    \"\"\"\n",
    "    Check if the base64 data is an image by looking at the start of the data\n",
    "    \"\"\"\n",
    "    image_signatures = {\n",
    "        b\"\\xFF\\xD8\\xFF\": \"jpg\",\n",
    "        b\"\\x89\\x50\\x4E\\x47\\x0D\\x0A\\x1A\\x0A\": \"png\",\n",
    "        b\"\\x47\\x49\\x46\\x38\": \"gif\",\n",
    "        b\"\\x52\\x49\\x46\\x46\": \"webp\",\n",
    "    }\n",
    "    try:\n",
    "        header = base64.b64decode(b64data)[:8]  # Decode and get the first 8 bytes\n",
    "        for sig, format in image_signatures.items():\n",
    "            if header.startswith(sig):\n",
    "                return True\n",
    "        return False\n",
    "    except Exception:\n",
    "        return False\n",
    "\n",
    "\n",
    "def resize_base64_image(base64_string, size=(128, 128)):\n",
    "    \"\"\"\n",
    "    Resize an image encoded as a Base64 string\n",
    "    \"\"\"\n",
    "    # Decode the Base64 string\n",
    "    img_data = base64.b64decode(base64_string)\n",
    "    img = Image.open(io.BytesIO(img_data))\n",
    "\n",
    "    # Resize the image\n",
    "    resized_img = img.resize(size, Image.LANCZOS)\n",
    "\n",
    "    # Save the resized image to a bytes buffer\n",
    "    buffered = io.BytesIO()\n",
    "    resized_img.save(buffered, format=img.format)\n",
    "\n",
    "    # Encode the resized image to Base64\n",
    "    return base64.b64encode(buffered.getvalue()).decode(\"utf-8\")\n",
    "\n",
    "\n",
    "def split_image_text_types(docs):\n",
    "    \"\"\"\n",
    "    Split base64-encoded images and texts\n",
    "    \"\"\"\n",
    "    b64_images = []\n",
    "    texts = []\n",
    "    for doc in docs:\n",
    "        # Check if the document is of type Document and extract page_content if so\n",
    "        if isinstance(doc, Document):\n",
    "            doc = doc.page_content\n",
    "        if looks_like_base64(doc) and is_image_data(doc):\n",
    "            doc = resize_base64_image(doc, size=(1300, 600))\n",
    "            b64_images.append(doc)\n",
    "        else:\n",
    "            texts.append(doc)\n",
    "    return {\"images\": b64_images, \"texts\": texts}\n",
    "\n",
    "\n",
    "def img_prompt_func(data_dict):\n",
    "    \"\"\"\n",
    "    Join the context into a single string\n",
    "    \"\"\"\n",
    "    formatted_texts = \"\\n\".join(data_dict[\"context\"][\"texts\"])\n",
    "    messages = []\n",
    "\n",
    "    # Adding image(s) to the messages if present\n",
    "    if data_dict[\"context\"][\"images\"]:\n",
    "        for image in data_dict[\"context\"][\"images\"]:\n",
    "            image_message = {\n",
    "                \"type\": \"image_url\",\n",
    "                \"image_url\": {\"url\": f\"data:image/jpeg;base64,{image}\"},\n",
    "            }\n",
    "            messages.append(image_message)\n",
    "\n",
    "    # Adding the text for analysis\n",
    "    text_message = {\n",
    "        \"type\": \"text\",\n",
    "        \"text\": (\n",
    "            \"You are an AI scientist tasked with providing guidance on AI research projects.\\n\"\n",
    "            \"You will be given a mix of text, tables, and image(s) usually of charts or graphs.\\n\"\n",
    "            \"Use this information to provide AI research advice related to the user question. \\n\"\n",
    "            f\"User-provided question: {data_dict['question']}\\n\\n\"\n",
    "            \"Text and / or tables:\\n\"\n",
    "            f\"{formatted_texts}\"\n",
    "        ),\n",
    "    }\n",
    "    messages.append(text_message)\n",
    "    return [HumanMessage(content=messages)]"
   ]
  },
  {
   "cell_type": "code",
   "execution_count": 48,
   "id": "9ed504cb-1363-4168-9035-a3915f4f7ab3",
   "metadata": {},
   "outputs": [],
   "source": [
    "def multi_modal_rag_chain(retriever):\n",
    "    \"\"\"\n",
    "    Multi-modal RAG chain\n",
    "    \"\"\"\n",
    "\n",
    "    # Chat LLM\n",
    "    model = SagemakerEndpoint(\n",
    "     endpoint_name = 'jumpstart-dft-meta-textgeneration-l-20240328-173404',\n",
    "     client = client,\n",
    "     model_kwargs={\"max_new_tokens\": 256, \"top_p\": 0.9, \"temperature\": 0.6},\n",
    "     endpoint_kwargs={\"CustomAttributes\": \"accept_eula=true\",\n",
    "                     \"InferenceComponentName\": \"meta-textgeneration-llama-2-70b-f-20240328-173405\"},\n",
    "     content_handler=content_handler\n",
    "     )\n",
    "    \n",
    "\n",
    "    # RAG pipeline\n",
    "    chain = (\n",
    "        {\n",
    "            \"context\": retriever | RunnableLambda(split_image_text_types),\n",
    "            \"question\": RunnablePassthrough(),\n",
    "        }\n",
    "        | RunnableLambda(img_prompt_func)\n",
    "        | model\n",
    "        | StrOutputParser()\n",
    "    )\n",
    "\n",
    "    return chain"
   ]
  },
  {
   "cell_type": "markdown",
   "id": "9372f523-1105-4322-9be3-0b0f8cf919ea",
   "metadata": {},
   "source": [
    "### Step 8. Check the retriever\n",
    "This solution can take text-based questions, and look up relevant content from either text or image sources."
   ]
  },
  {
   "cell_type": "code",
   "execution_count": 50,
   "id": "95f58b03-f74d-43ab-bf11-a7bd125b70ea",
   "metadata": {},
   "outputs": [
    {
     "data": {
      "text/plain": [
       "4"
      ]
     },
     "execution_count": 50,
     "metadata": {},
     "output_type": "execute_result"
    }
   ],
   "source": [
    "# Check retrieval\n",
    "query = \"Give me papers that are related to large language models.\"\n",
    "\n",
    "docs = retriever_multi_vector_img.get_relevant_documents(query, limit=6)\n",
    "\n",
    "# We get 4 docs\n",
    "len(docs)"
   ]
  },
  {
   "cell_type": "code",
   "execution_count": 53,
   "id": "baf83664-5d88-41c5-9aeb-baab083093b1",
   "metadata": {
    "tags": []
   },
   "outputs": [
    {
     "data": {
      "text/html": [
       "<img src=\"data:image/jpeg;base64,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\" />"
      ],
      "text/plain": [
       "<IPython.core.display.HTML object>"
      ]
     },
     "metadata": {},
     "output_type": "display_data"
    }
   ],
   "source": [
    "plt_img_base64(docs[0])"
   ]
  },
  {
   "cell_type": "code",
   "execution_count": 51,
   "id": "a05bfdd3-9473-4a9a-a090-1d85e2566ea9",
   "metadata": {},
   "outputs": [
    {
     "data": {
      "text/plain": [
       "4"
      ]
     },
     "execution_count": 51,
     "metadata": {},
     "output_type": "execute_result"
    }
   ],
   "source": [
    "# Check retrieval\n",
    "query = \"Give me papers that are about multimodal retrieval.\"\n",
    "\n",
    "docs = retriever_multi_vector_img.get_relevant_documents(query, limit=6)\n",
    "\n",
    "# We get 4 docs\n",
    "len(docs)"
   ]
  },
  {
   "cell_type": "code",
   "execution_count": 56,
   "id": "6e64b81e-7b62-4dae-9069-8b9e50d7353c",
   "metadata": {},
   "outputs": [
    {
     "data": {
      "text/html": [
       "<img src=\"data:image/jpeg;base64,/9j/4AAQSkZJRgABAQAAAQABAAD/2wBDAAgGBgcGBQgHBwcJCQgKDBQNDAsLDBkSEw8UHRofHh0aHBwgJC4nICIsIxwcKDcpLDAxNDQ0Hyc5PTgyPC4zNDL/2wBDAQkJCQwLDBgNDRgyIRwhMjIyMjIyMjIyMjIyMjIyMjIyMjIyMjIyMjIyMjIyMjIyMjIyMjIyMjIyMjIyMjIyMjL/wAARCAFkBDkDASIAAhEBAxEB/8QAHwAAAQUBAQEBAQEAAAAAAAAAAAECAwQFBgcICQoL/8QAtRAAAgEDAwIEAwUFBAQAAAF9AQIDAAQRBRIhMUEGE1FhByJxFDKBkaEII0KxwRVS0fAkM2JyggkKFhcYGRolJicoKSo0NTY3ODk6Q0RFRkdISUpTVFVWV1hZWmNkZWZnaGlqc3R1dnd4eXqDhIWGh4iJipKTlJWWl5iZmqKjpKWmp6ipqrKztLW2t7i5usLDxMXGx8jJytLT1NXW19jZ2uHi4+Tl5ufo6erx8vP09fb3+Pn6/8QAHwEAAwEBAQEBAQEBAQAAAAAAAAECAwQFBgcICQoL/8QAtREAAgECBAQDBAcFBAQAAQJ3AAECAxEEBSExBhJBUQdhcRMiMoEIFEKRobHBCSMzUvAVYnLRChYkNOEl8RcYGRomJygpKjU2Nzg5OkNERUZHSElKU1RVVldYWVpjZGVmZ2hpanN0dXZ3eHl6goOEhYaHiImKkpOUlZaXmJmaoqOkpaanqKmqsrO0tba3uLm6wsPExcbHyMnK0tPU1dbX2Nna4uPk5ebn6Onq8vP09fb3+Pn6/9oADAMBAAIRAxEAPwD3+iiigAooooAKKKKAOf8AEP8AyHPCf/YVk/8ASK6roK5/xD/yHPCf/YVk/wDSK6roKACiiigAooooAKKKKACiiigAooooAKKKKACiiigAooooAKKKKACiiigAooooAKKKKACikLqpwWAPuaaZYwCTIoA7k0APoqH7Xbf8/EX/AH2Ka9/Zx433cC56bpAP607MLFiiqv8Aaen/APP9bf8Af5f8ahOu6QCQdVsQR1BuE/xp8suw7M0KKzjr+jgZ/tWx/C4T/Gk/4SHRv+grZ/8Af5f8aOSXYLM0qKym8S6IpwdUtfwkBpP+En0P/oKW3/fdP2cuwcr7GtRWJ/wl2gf9BKL8m/wpr+MvD8YBbUkOf7sbt/IUeyn2Y+V9jdorBTxloMufLvWfHXbbyH/2WnHxdowP+unP/btJ/wDE0eyn2YcsuxuUVjf8JRppXcou2GMjFpJz/wCO01fFFixwtvfk+gtJP8KPZz7C5X2NuisR/E1upGNP1R/92zf+tA8TRMMjStXP0smo9nPsHKzbornz4qwf+QDrh/7c/wD69SnxFJjjQtXJ94V/+Kp+yl2Hys26KxE1+4c4Gg6p+KIP5tStrl6D8vh+/I9zGP8A2al7OQuVm1RWMNY1FlyPD95+MsY/9mqH+3NVzj/hH5Qfe7i/xo9m/wCmh8rN+iucm8QatEQBoK5PZ9QiX/GtHSNRu9Qjla6sUtShAULcrNu/756UnBpX0+9A4NK5pVz/AIy/5Adt/wBhXTf/AEthroK5/wAZf8gO2/7Cum/+lsNSSdBRRRQAUUUUAFFFFABRRRQAUUUUAFFFFABRRRQAUUUUAFFFFABRRRQAUUUUAc/4e/5Dniz/ALCsf/pFa10Fc/4e/wCQ54s/7Csf/pFa10FABRRRQAUUUUAFFFFABRRRQAUUUUAFFFFABRRRQAUUUUAFFFFABRRRQAUUVV1HUbXSrGS9vZfKt48b32lsZIA4AJ6kUDSbdkWqK5j/AIWF4W/6Cn/kvL/8TR/wsLwt/wBBT/yXl/8Aiannj3Nvqtf+R/czp6K5j/hYXhb/AKCn/kvL/wDE0f8ACwvC3/QU/wDJeX/4mjnj3D6rX/kf3M6eiuY/4WF4W/6Cn/kvL/8AE1LbeOvDd3dQ20Go75pnWONfIkGWJwBkr60c8e4PDV1q4P7mdFRRRVGAUUUUAFFFFABRRRQAUUUUAFFFFABRRRQAUUUUAFFFFABRRRQAUUUUAFFFFABRWJq3jHw3oUrQ6prun2syjcYZJ1EmPXZnP6U3SfGvhjXZUh0zXtPuZ3+7Ck6+Yf8AgB+b9KAN2iiigAooooA5/wAQ/wDIc8J/9hWT/wBIrqugrn/EP/Ic8J/9hWT/ANIrqugoAKKKKACiiigAoorJ1jVpLR4rGxRZtSuP9VGeiL3dvRR+tOMXJ2Q0rmtRWENF1WcEXniG5IPa2iSLH44Jo/4RPTZAPtbXd6R3ubl2/TIFVyxW7/r8B2Xc0LjV9NtDi4v7aI+jSqD+Waof8JZpLsy20k9246rb27v+uMVct9D0q1IMOnWqMOjCIZ/PrT7zVtM0wYvL61tvRZJVU/gKG6aHGPM7RTbM/wDt3UJ1zZ+Hr1v+vlkh/mSaUv4nnI2Q6Zaqeu93lYfkAKrf8Jtp0/GmWuoamc4za2rFQfdmwPxo/tDxZe5Fro1nYLnh7653kj/djHB/Gp9tD7K/N/8AAN/q1RfElH1dvwev4Fkaf4hJyddgXPZbIHH/AI9TDpXiFnz/AMJMFHotgn9TUT6V4qmU58TW8BOOItOVsfTc1KNA1twRN4su2z/zztok/pR7aX8v4IPZQ/5+R+5//Ik50jWT18Rzfhaxj+lO/sfUmQBvEF3nuVijH/stVZPCc8wPm+Jtd5/553Cp/JaUeDbQgibU9Znz/wA9L9/6EUvaz7L8P8g5KS3n9y/4YsjQ7vaQ+v6ic/3fLH/stRNoZiyZfEeqKB6zoP8A2WopPAfh6YHz7Webd18y7mOf/Hqlj8EeGos7dHtjn+8C38zR7Wr2X9fIP3H8z/8AAV/8kUZrHSoHL3HjC/TB+YPqaKP5DFQSSeGVyX8XTtj01Td/I1vL4X8Pr00TTvxtkP8ASrcel6fDnyrG1TPXbCo/pT9rV7hzUF/M/uX+Zx0+reDI1xL4hu32+l1M/wDLNAv/AAm6Mscmr3I77Vujx+Qru1RU+6oH0FLS56v839feHtKH8sv/AAJf/Inn7yaAm4x+HfEdxj+5DPz+bCkWy0l2LQ+CNYZhz+9bbn85K9Bop89X+dh7emtofi/+AcEdNBJ8vwDIR2LXsa/+zUkVlfEhD8PLVB/efUYz/Qmu+opc1T+dh9Zj/wA+198v/kjhv7Ovw2V8C6b9Deqf/ZambS9RIGzwhoanvunB/wDaddnRRef8zF9Yj/Iv/Jv8zjV0nVDGceGPDiN23uTj/wAh00aNrhPOgeFB9Ub/AOIrtKKXvfzMPrP9xfj/AJnGnS/Fe/5bDwkqZ4HlSkgfkKmGl+JlOY08NIfVbWQf1rrKKVn3f3h9af8AKvuOYGmeJWj+a50NGP8AdsnOPzb+lPj0zxMowdV0xB2C2BP/ALOK6Sijl8394vrMuy+5f5HNf2P4n3Z/4SK1UZ7aavH/AI9SSaL4qdsr4vWMY6Lpkf8AVjXTUUuRef3sf1qfaP8A4DH/ACObGh+IigD+Lpie5WxhH9KfHoWtAHzPFV4x7bbaEf8AsproaKORf02L61U7L/wGP+Rzq+HNRDDd4o1Mj0Cxj/2Wkfwtcu24+J9aB/2ZUA/IJXR0UckQ+tVfL7l/kc1J4QeVQG8TeIRj+7dqv8loTwciptbX/EEnu2oN/QCuloo9nEf1uttf8jnU8HWqNltV1px6NqD/ANKD4M01m3Nc6mSepN9Lz+tdFRR7OPYX1uv/ADM56TwTosuPMS7fHTdezHH/AI9TD4D8OshR7OZ1PUNdzHP/AI9XSUUezh2D63iFtN/ezmY/h94WiJK6Shz/AHpZG/m1SjwL4ZVgRo8GQc8lj/Wuhoo9nDsgeMxD3qS+9mH/AMId4c/6A1n/AN+xWjYaVYaXGyWFnBbK+CwiQLux6+tW6KajFbIiVarNWlJteoVz/jL/AJAdt/2FdN/9LYa6Cuf8Zf8AIDtv+wrpv/pbDVGR0FFFFABRRRQAUUUUAFFFFABRRRQAUUUUAFFFFABRRTZJY4YmlldUjUZZmOAB6k0AOorlZviV4JgnSF/FGllm4BS4Dr+LLkD8TW9pur6brNubjTNQtb2EHBktplkUH0JUnmgC5RVa/t7i6sZYLW9ksp3GEuI0V2jOeoDAqfxFcNp8niSH4nQaKfFF1qNha2LXd+s1pboMsSsSBkQEEnLfRaAPQqK8oHirxVdeDrj4gWuo239nRSSPHpDWoCSWqSlCTJncJCBuBHy9Bt5r1WORZYkkQ5V1DA+oNAGD4e/5Dniz/sKx/wDpFa10Fc/4e/5Dniz/ALCsf/pFa10FABRRRQAUUUUAFFFFABRRRQAUUUUAFFFFABRRRQBy2r+PdL0XVJtPube8eaHbuMaKVOVDcZYdjVH/AIWjon/PrqH/AH7T/wCLrifH3/I7ah/2z/8ARa1zVefPETUmkeZUxVSM2ket/wDC0dE/59dQ/wC/af8AxdH/AAtHRP8An11D/v2n/wAXXklFT9aqEfXKp63/AMLR0T/n11D/AL9p/wDF0f8AC0dE/wCfXUP+/af/ABdeSUUfWqgfXKp9CaRqkGtaXDqFskiQzbtokADDDFecE9xWN8Qv+RG1H/tl/wCjUp/gH/kSdP8A+2n/AKMamfEL/kRtR/7Zf+jUrtveld9j2sC3KpTb7o8LooorgPtgooooAK0/Df8AyNOkf9fsP/oYrMrT8N/8jTpH/X7D/wChiqjujOr8EvRn0RRRRXpHxIUUUUAFFFFABRRRQAUUUUAFFFFABRRRQAUUUUAFFFFABRRRQAUUUUAFFFFAHnS2Pwo8HTfZJx4fgvIzljdsk04J7lnywz/Wrg8P/DbxzBMtraaHfPwZJLHYsyehLJhh+Ncx8OIvhjJ4S07zk0N9V8rN2NTERuRL/HnfzjdnHtiqviZfCEPjXwkvgf7Amvf2oizLo+wJ9mH+tEoj4Ax6843UAetaJpQ0TR4NOF7eXqw7gJ7yTzJWBYkBmwM4BwPYCtCivLvih4V8PHSmFvoli2v65eR2dvcNFlxJIfmkJH91Qxz7CgD1EkAZJwKK81vdGsdR+IOleC7qN5NB03QPtKWZlYJM4lWJd6jAcKF79zWt8PjLat4i0Uz3E9tpeptBaGdy5SExo6x7iSSF3EDPbFAGp4h/5DnhP/sKyf8ApFdV0Fcfq+s2t54s8M2MUV8s0Oqy7mmsJ4ozi0uQdsjoEbk8bScjkZHNdhQAUUUUAFFFU9T1K30qya6uCcDhUXlnY9FUdyaaTbsgItY1ZNLt12oZruY7LeBesjf4DuapWdvB4fsbrVtXuUN1IPMurhuijsi98DoAOT+QpthbG0E+v65IkdyUJwzfJax/3R7+p9f1o2NtP4tv4tX1CNo9JgfdYWjj/XHtM4/9BH+S6k+Vckd/6/D8zppUk05Sdord9/Jf15lk+K7i6BGk+HtTu+MrJKot42+jOf6UuPGF8eW0vTIiOwa4kX+S10lFZcre7D28I/BBfPX89PwOa/4ROW6w2q6/ql4cYaNJBBG3/AUA/nV2x8KaDpuDa6VbKy9HdN7D/gTZNak1xDbR+ZPNHEg/idgo/M1jzeL9EjlEUd6LmUjIS1RpSf8AvkEUmqcdzOpjZ2tKdl22X3I3AMDA6UVz/wDb+p3Q/wCJf4cvGGcbrt1gH1wcn9KPI8VXe4SXmnaep+75ETTOB7lsD9KPaJ7Js5fap/Cm/l/mdBRWB/YGpHlvEt/nvhIwPyxUg0G8wM+IdTJ9vLH/ALJT5pfy/kPnl/L+X+Zt0Vgt4buHYsfEWr5PpIgH6LSDwzNnnxDrJHtMv/xNLml/KLnn/L+KN+isBvDDupU+INbwfS5UH8wtRf8ACIf9TF4g/wDA3/7Gjmn/AChzz/l/E6SisBfCqKoB1rW2Pqb5sn8qD4UhY5OrayT73zUc0+34hzVP5fxN+isFfClurAnU9XYehvXx+lPPhe0YEG81Mg9Qb6T/ABp3n2/EfNU/l/H/AIBt0Vgf8Ihp3/PfUP8AwMk/xp6+FNNAwWvW9zey/wDxVF59vx/4Ac1Tsvv/AOAblFYL+DtHkbc8dyx9Wu5T/wCzUx/BHh6UASWLvjpuuZT/AOzUr1Oy+/8A4Ar1ey+//gHQFgvUgfWmNPEgy0qKPUsBWKvgrw6qhRpcWB6sx/rUi+EtARQo0m2wPVcn9aL1Oy+//gBer2X3/wDANJr60RSz3UCqOpMgAqJtY0xFLNqNoqjqTOoA/Wq6+GNCUYGkWX4wqacPDuiAYGj2H42yH+lH7zyD975CnxFogGf7Y0//AMCU/wAab/wkuhj/AJi9j/3/AF/xqaPRNKiBEemWSA9dtuo/pUqadZR58uzt1z12xKM/pR+88g/e+RQ/4SvQP+gta/8AfdRf8Jn4d/6CkP5N/hWwtvAh+SGNc+igVIEVTkKB9BRafdfd/wAELVO6+7/gnPr458OO+xNQLt6Lbyn/ANlp48Y6MzbVluGPYC0l5/8AHa3qKLVO6+7/AIIWq9193/BML/hLNPL7Vg1Bj2xZSc/pSN4qtw2F0zV391sX/rW9RRaff8B8tT+b8P8AgnPP4sCthdB15/dbI4/UinHxLN28PayfrCo/9mrfoo5Z/wAwuSf834GE2v33Gzw7qR+pjH/s1Da1q+AY/DV02f71xEv9a3aKfLL+b8h8kv5n+H+Rz76x4g2gx+FpGPo19Ev+NA1TxIyA/wDCNxIfRtQU4/Ja6CilyS/mf4f5C9nL+d/h/kYQvvErpkaLZo3o17n+S0C48UMhxYaYjdt1y5/ktbtFPkf8z/D/ACH7N/zP8P8AIwN/i4qcQ6Kp7bpJT/Smxjxic+Y+hL6bVmb+oroaKXs/Ni9l/eZhJD4qJO+70lR22wSH/wBmFX9Ni1KJJBqVzBOxI2GGIpgd85Jq9RTULa3KjTSd7v7wrn/GX/IDtv8AsK6b/wClsNdBXP8AjL/kB23/AGFdN/8AS2GrLOgooooAKKKKACiiigAooooAKKKKACiiigAooooAK5jxR4T0PXp4r7xFPK9haR5+yy3JjtQQc+Y4BGSOnJxjtXT15Z8W/sh1/wAHDX/O/wCEX+1y/btufK83avk+Z/s53fhuoA0odY+EturWkM/hSON+GRUhCNx3OMGr0Hw/8Ky6nY6/oCjTZo3SQTaRKI4riMHJRlX5GRsc4GT61XFv8KfsHmCLwd9lH8eLbbnp19e1Y/wmNl/wkfjFfDxlPhdbqIWfJMQl2t5vlf7Odv4baAPU65LwNo9/ajWNa1i2+z6prF880kTFWaKFPkhjJUkHCjPH96utooA8o/4RXxTa+C7n4f2mnW/2GWSSOHV2uQUjtnlLkNHjf5gB2gAbe+7jn0y50yxvdOOn3lnBdWZVVaCeNXRgpBGVIwcEA/hVuigDl/CFhZ6ZqHimzsLSC0tY9VTZDBGI0XNnbE4UcDJJP411Fc/4e/5Dniz/ALCsf/pFa10FABRRRQAUUUUAFFFFABRRRQAUUUUAFFFFABRRRQB4l4+/5HbUP+2f/ota5qul8ff8jtqH/bP/ANFrXNV5FT436nh1v4kvVhRRRUGYUUUUAe3eAf8AkSdP/wC2n/oxqZ8Qv+RG1H/tl/6NSn+Af+RJ0/8A7af+jGpnxC/5EbUf+2X/AKNSvUX8H5fofR5f8dL1j+h4XRRRXCfbhRRRQAVp+G/+Rp0j/r9h/wDQxWZWn4b/AORp0j/r9h/9DFVHdGdX4JejPoiuF8aeIdU0nWIYLG68qJrdXK+Wrc7mGeQfQV3VeZfEX/kYLf8A69V/9DevYoJOdmfGQV2Z/wDwmviH/oIf+QY//iaP+E18Q/8AQQ/8gx//ABNYFFd3s4dkbcq7G/8A8Jr4h/6CH/kGP/4mj/hNfEP/AEEP/IMf/wATWBRR7OHZByrsb/8AwmviH/oIf+QY/wD4muv8D61qGsfb/t9x53leXs+RVxndnoB6CvMa774af8xT/tl/7PWVaEVTbSImlY76iivM/wDhbn/UD/8AJv8A+wrz3JLczjCUtj0yivM/+Fuf9QP/AMm//sKP+Fuf9QP/AMm//sKXPEv2M+x6ZRXmf/C3P+oH/wCTf/2FH/C3P+oH/wCTf/2FHPEPYz7HplFeZ/8AC3P+oH/5N/8A2FemU1JPYiUJR3CiiimSFFFFABRRRQAUUUUAeMav4h8E+Jb6W4sfhxqXiIMxDajaaZhJSOp8zgnkY5ra8F+KPB9nq0ekw+FrnwrqV2MRR31gLc3H+yr9/ocdsVS8O+P38G+H7LQPEXhPWrO50+EQNNaWfmW8gXgMrA8k9T7k03VNT1D4ma74et9L8N6nY6fpupx31xqWpQeRgRnO2Pkk7v54yO4APXKwb3w41/400zXbi6DQabbSpb2uzpNJgNIWzz8g2gY7k5reooA5zXvDE+o6taa1peptpurWsTwLKYRLHLExBKSIcEjKgjDDBqx4Z8OReG7G4iF1NeXV3cvd3d1NgNLK2MnA4UcABR0ArbooA5/xD/yHPCf/AGFZP/SK6roK5/xD/wAhzwn/ANhWT/0iuq6CgAoopskiRRtJI6oiAszMcAAdzQBHd3cFjayXNzII4YxlmNYdhBJqFz/b+qjyYo1LWkEhwIU6+Y3bcR+Q/RlujeJbxdQuQU0i3bdbRNx57D/low9B2H+TUdpPG96Yo2ZPDttJiRwSPtzj+EH/AJ5g9+/8rnL2a5V8T/r/AIc6KVLmu27Jbv8AT1f9dQijfxteLczqy+HYGzDEwwbxwfvsP7g7Dv39K6PVdSg0jTZbycEpGOEUcsx4Cj3Jq3HGkUaxxoqIgCqqjAAHQAVzsn/E+8UrCPmsNJYO/pJcEcD/AICOfqa53eK03f8AX4GOKruSUYKy2S/X9X/wxIJ/FV4FKWenaep6iaVpnH0CgCg6BqV0CNQ8R3jAnO20RYAPbIyf1roKKfs0922YeyT+Jt/P/Iw4fCOhxSmWSyFzKer3LtKT/wB9EitiGCG2jEcEUcSDoqKFH5CpKKqMIx2RcYRj8KsFFFFUUFFFFABRRRQAUUUUAFFFFABRRRQAUUUUAFFFFABRRRQAUUUUAFFFFABRRRQAUUUUAFFFFABRRRQAUUUUAFFFFABRRRQAUUUUAFFFFABXP+Mv+QHbf9hXTf8A0throK5/xl/yA7b/ALCum/8ApbDQB0FFFFABRRRQAUUUUAFFFFABRRRQAUUUUAFFFFABXPeMfEWgeH9Hzr6rPDdN5Mdn5PnPct/cVP4u3XjpXQ1598RdM1VNd8M+KtM0z+1V0WWX7RYqN0jJIFG+Md2Xbkd849DQBxv2nwmZvtX/AApbXfK/vf2V2652Zx+Neo+DfEegeIdHP9gKsENq3lSWfkiF7Zv7rJ/D36ccH0Nc0PjHpe3b/wAI14p+0/8APt/Zv7zrj+9j9al+HmnatN4h8TeKtS0ttJTWJIRb2UnEgSNSN8g7Mc9Ouc+xIB6FRRRQAUUUUAc/4e/5Dniz/sKx/wDpFa10Fc/4e/5Dniz/ALCsf/pFa10FABRRRQAUUUUAFFFFABRVW/1G00yBZryXy42bYDtJ5wT2Hsazv+Eu0P8A5/v/ACE//wATWUq1ODtKST9TSNGpNXjFteht0Vif8Jdof/P9/wCQn/8AiaP+Eu0P/n+/8hP/APE1P1mj/OvvRX1et/I/uZt0Vif8Jdof/P8Af+Qn/wDiaP8AhLtD/wCf7/yE/wD8TR9Zo/zr70H1et/I/uZt0VnWGu6bqc7Q2dz5kirvI2MOMgdx7itGtYzjNXi7ozlCUHaSszxLx9/yO2of9s//AEWtc1XS+Pv+R21D/tn/AOi1rmq8qp8b9Twa38SXqwoooqDMKKKKAPbvAP8AyJOn/wDbT/0Y1M+IX/Ijaj/2y/8ARqU/wD/yJOn/APbT/wBGNTPiF/yI2o/9sv8A0aleov4Py/Q+jy/46XrH9DwuiiiuE+3CiiigArT8N/8AI06R/wBfsP8A6GKzK0/Df/I06R/1+w/+hiqjujOr8EvRn0RXmXxF/wCRgt/+vVf/AEN69NrzL4i/8jBb/wDXqv8A6G9ezhvjPjKe5yFFFFegbhRRRQAV33w0/wCYp/2y/wDZ64Gu++Gn/MU/7Zf+z1jX/hsifwnfV8zV9M18zV5NToVh+oUUUVkdQUUUUAFfTNfM1fTNa0+py4jocv4xu7m1+xfZ7iWLdv3eW5XP3euK5f8AtXUf+f8Auv8Av83+NdF44/5cP+2n/stcjXdTS5Ud2FinSV1/Vy5/auo/8/8Adf8Af5v8aP7V1H/n/uv+/wA3+NU6K0sjfkj2Ln9q6j/z/wB1/wB/m/xo/tXUf+f+6/7/ADf41Toosg5I9jqvCV7d3OqypPdTSqICQskhYZ3LzzXZVw3gz/kMTf8AXu3/AKEtdzXNV+I8rFpKpocp/wALN8Ef9DPpv/f4Vi+IfitpUM2h2/hvVNM1C5vdVgtJ49xcpC+QzAAjBB28nI56VoeGfhvoOm+G7Cx1fQNBvL+CIRzXAsI28wjoxLLkkjGSe+aj8QfDPRb+TR5tH07StJnsNTgvZJYLJEaREzmPKgHkkH04rM5juaKKKACiiigDn/EP/Ic8J/8AYVk/9Irqugrn/EP/ACHPCf8A2FZP/SK6roKACualZvFV60EbEaLbviV1OPtTj+EH+4O57/rXRuiyxtG6hkYFWU9CD2rkruV9YuT4b0JjbWFthL67i42D/nlGe7nue31p+0UFfr0NqNNzfZLd9v66CXUr+Lrt9J09zFoUHyXd1Fx55H/LGM/3fUj6dOvWQQRWsEcEEaxxRqFRFGAoHQCo7GyttNsorO0iWK3iXaiL2H+PvViojG2r3HWqqVoQ0itv835/8MZmv6odK0p5Yl33UhENtGOryNwo/r9BTtD0saRpUVsW3zHLzSd5JDyzfn+mKzLT/ie+J5L482OmFoLf0eY/fb8Og/OukqY+9Lm+44oe/Jz+SCiiitDYKKKKACiiigAooooAKKKKACiiigAooooAKKKKACiiopbmCAZlnjjHq7gUm0tWNJvREtFZ7a7pSHB1C2/CQH+VRf8ACS6OD/x/x/kf8KyeJorea+9Gqw9Z7Qf3M1aKxx4p0YvsF5ubphYnP9Kd/wAJJphbCyTE9sW7/wCFT9boP7a+9D+q1/5H9zNaiso+ILPdgR3bfS2f/CkbX4QcCy1BvcWrU/rVH+ZB9Wrfys1qKx38QBTxpOqt7i1P9TTjrcnbR9SP1iUf+zUvrVLv+DD6tV7fijWorKOr3JAK6NenPrsH/s1B1PUCoKaJcE/7UqD+tP6zT8/uf+QfV5+X3r/M1aKyDqWrbcpoTk+jXUYoF/rTLn+xEU+jXin+QpfWYdn/AOAy/wAg+rT7r/wKP+Zr0VlC61plP/Est1P+1c5/ktAm11gf9DslPbM7f/E0/rEez+5/5B7CXdfev8zVorJDeISD+600fV3/AMKag8SE/O2lAewkP9aX1j+6/uD2H95febFFZKx6+T81xp4HtE5/rSi31wtzf2gHtbk/+zU/bP8Akf4f5h7Ffzr8f8jVorJ+x60W/wCQvCB7Wo/+Kpv9na0Xydewvotmn9TS9tP/AJ9v/wAl/wDkg9jD/n4v/Jv8jYorJ/s3UycnXJfwt0H9KVtKvWOTrV3+CIP6U/az/wCfb/D/ADD2UP51+P8AkatFZTaNM5ydY1D8HUfyWmPoLPjOsarx/dnA/kKTqVekPxQKnT6z/BmxRWR/YEZADajqbY7m6ar1lYpZIypLPJu6maUuf16VcJVG/ejZepM400vdld+hZrn/ABl/yA7b/sK6b/6Ww10Fc/4y/wCQHbf9hXTf/S2GtTI6CiiigAooooAKKKKACiiigAooooAKKKKACiiigArJ1rxNonhzyP7Z1S2sfP3eV577d+3GcfTI/OtauR8YeC4/FOseHb6SOzmj0y5dpoLuPzElidQHG0ggnhSM+lAD/wDhZvgj/oZ9N/7/AAqr4R8cjxX4w8SafaS2dxpOnLbG0ubfJMnmIS+45wcMCBgDp3rV/wCEE8H/APQqaH/4Lof/AImqXhrwTb+GfFviDVLIWsFlqa24hs7aARrB5aFTwOOSSeB3oAtePPEEvhXwPq2tQBDPbQ/ut4yN7MEUkd+WHFcr4K1Gxn1qwe91HxUdXvImeJtTDxW18AuWMUY+QKOoGFbGDz1Pb+J9Bh8T+GdR0WeQxpeQmMSAZ2N1VsZGcEA4zziuetPDniK/13Q7rXpdMW20Te0X2IuWuZChQMwYDywASdoLc98UAcnHf65ffDq4+I8Wv6hFqCtLcwWZdfsot0lZRE0WMHKD733s454r1efUoLfSxqEizvCUV8QQSTOQ2MYRFLHr2HHWuBfwBr6aBc+D7XUbCLw1cTO4nEbC6iheQyNCF+6ck43k9Cfl6V6SqhECqMKBgCgDmPCF7FqGoeKbqFJ0jfVUwJ4HhcYs7Yco4DDp3HPXpWb/AMLW0L/n01H/AL9p/wDF1teHv+Q54s/7Csf/AKRWteC11YajGpfmOTFVpUrcvU9g/wCFraF/z6aj/wB+0/8Ai6P+FraF/wA+mo/9+0/+Lrx+iuv6pTOP65VPYP8Aha2hf8+mo/8AftP/AIuj/ha2hf8APpqP/ftP/i68foo+qUw+uVT2D/ha2hf8+mo/9+0/+Lrs7K7jv7C3vIgwjuIllUMOQGAIz78182V9D+G/+RX0j/ryh/8AQBXNiaMKaTidWFrzqNqRlePP+QHB/wBfK/8AoLV55Xofjz/kBwf9fK/+gtXnlfH5n/vD9EfX5b/A+bCiiivPO8KKKKAOo8B/8hyf/r2b/wBCWvQ6888B/wDIcn/69m/9CWvQ6+kyz/d/mz53Mv479EeJePv+R21D/tn/AOi1rmq6Xx9/yO2of9s//Ra1zVYVPjfqfKVv4kvVhRRRUGYUUUUAe3eAf+RJ0/8A7af+jGpnxC/5EbUf+2X/AKNSn+Af+RJ0/wD7af8AoxqZ8Qv+RG1H/tl/6NSvUX8H5fofR5f8dL1j+h4XRRRXCfbhRRRQAVp+G/8AkadI/wCv2H/0MVmVp+G/+Rp0j/r9h/8AQxVR3RnV+CXoz6IrzL4i/wDIwW//AF6r/wChvXpteZfEX/kYLf8A69V/9DevZw3xnxlPc5CiiivQNwooooAK774af8xT/tl/7PXA133w0/5in/bL/wBnrGv/AA2RP4Tvq+Zq+ma+Zq8mp0Kw/UKKKKyOoKKKKACvpmvmavpmtafU5cR0OR8cf8uH/bT/ANlrka67xx/y4f8AbT/2WuRrvp/Cjvwv8Ff11CiiirOgKKKKAOj8Gf8AIYm/692/9CWu5rhvBn/IYm/692/9CWu5rmq/EeTjP4p5v8Tri48Lyw+L9N15bO+jiW2Om3GWi1BQxYIFHO/LnDD9Bk1jeGNW1D4n+J2OuXraNFpE8cy+HIyyTu6lWWSYsAWUHHAGOmcd/Qx4e0HVvENt4q8uK9u0tlhtZ94kjRQzNuTtuO773oBjHOYvEfhTQ9WvbLWr/Fpe6bKk0V/G4idVU5Ks3dDyCD2JxjNZnKdHRVTTNUsdZsEvtNuo7q0kLKk0RyrbWKnB78gjNYup+NLSy1WbSrDTtR1jULcK1zDYQhhACMje7FVBI6LnPtQB0tFc9q/i+z0gWMTWWoXOo30Zkg0+2g3TlRjcWBIVcbhncR7Zq9oOv2HiTTftunvIUWRoZY5YzHJDIvDI6nlWB6igCl4h/wCQ54T/AOwrJ/6RXVdBXP8AiH/kOeE/+wrJ/wCkV1XQUAMljWWJ42LBXUqSrFTg+hHI+oqvpmmWmkWEdlZRCOGMcDuT3JPcn1q3RSsr3K5pcvLfQKxvEmoTWlglrZH/AImF6/kW49CerfRRzn6Vsk4GTXN6LnWtauddcZtos21gD02g/PIP948Z9BUVG/hW7MKrfwrd/wBM2dM0+HStMt7GD/Vwptz3Y9yfcnJ/GrdFFWkkrI0SSVkFFFFMYUUVFPdW9qu64njiX1dwv86TaSuxpNuyJaKyW8R2LErbCe7cdVt4i369P1pDe6zcZFtpkcA7PdS/+yrk1h9Zp/Zd/TX8jb6tU+0reun5mvRWQbPW5cF9Wih9RFbA/qxpTos0uDPrGoMf+mbiMH8hR7Wo9oP52/zYeygt5r8f8jWqCW+tIP8AXXUMf+/IB/OqB8N6dJjz1nuCO8s7t/Wp49E0uLG3T7bjoTGCf1o5q7+yl83/AJfqHLQXVv5L/Mil8RaRF96/iP8AuZf+WaYfENuwzBaX9x/1ytm/ritSOKOIYjjRB6KMU+jlrveSXy/4P6BzUVtF/f8A8D9TIOq37jNvoly3/XWRI/6mgza/Kv7uzsYT/wBNZmb+QrXoo9jN7zf4f5B7aK2gvx/zMk22uSr82o2sB/6ZW+7/ANCNIdHupVxPrV6f+uW2P+QrXoo+rQe7b+b/AMw+sTW1l8l/kZJ8O2Ui4uJLu4Hfzbhz/I1LFoGkxDC6fAf95N3860aKaw1Fa8i+4TxNZ6cz+8ijtbeEYigiQeioBUgVQchQPwpaK2UUtjJtvcKKKKYgooooAKKKKACiiigAooooAKKKKACiiigAooooAKKKKACiiigAooooAKKKKACuf8Zf8gO2/wCwrpv/AKWw10Fc/wCMv+QHbf8AYV03/wBLYaAOgooooAKKKKACiiigAooooAKKKKACiiigAooooAKKKozazptvqsWlz30EV9MnmRQSOFaRckZUHr0PSgDxbU/Ges/DG/vfD+kXS+J7G3tzIgl3vLpQBwBMyghkHocEe3GfRPh7pISwm8Q3HiE69f6sqNLdo37lVXdiONf4QpZgRwc5yB0rZ8N+FdH8J6UNP0m0WKM8yu3zSTN3Z2/iP+RgVmWGk+FvAmsXEttdRacdamijSwMoEbTbioMUfYtuAOOOB0xQB1tFFFABRRRQBz/h7/kOeLP+wrH/AOkVrXgte9eHv+Q54s/7Csf/AKRWteC134H7XyPPx/2fn+gUUUV3nnBRRRQAV9D+G/8AkV9I/wCvKH/0AV88V9D+G/8AkV9I/wCvKH/0AVxY34Ud2B+JmV48/wCQHB/18r/6C1eeV6H48/5AcH/Xyv8A6C1eeV8Vmf8AvD9Efa5b/A+bCiiivPO8KKKKAOo8B/8AIcn/AOvZv/Qlr0OvPPAf/Icn/wCvZv8A0Ja9Dr6TLP8Ad/mz53Mv479EeJePv+R21D/tn/6LWuarpfH3/I7ah/2z/wDRa1zVYVPjfqfKVv4kvVhRRRUGYUUUUAe3eAf+RJ0//tp/6MamfEL/AJEbUf8Atl/6NSn+Af8AkSdP/wC2n/oxqZ8Qv+RG1H/tl/6NSvUX8H5fofR5f8dL1j+h4XRRRXCfbhRRRQAVp+G/+Rp0j/r9h/8AQxWZWn4b/wCRp0j/AK/Yf/QxVR3RnV+CXoz6IrzL4i/8jBb/APXqv/ob16bXmXxF/wCRgt/+vVf/AEN69nDfGfGU9zkKKKK9A3CiiigArvvhp/zFP+2X/s9cDXffDT/mKf8AbL/2esa/8NkT+E76vmavpmvmavJqdCsP1CiiisjqCiiigAr6Zr5mr6ZrWn1OXEdDkfHH/Lh/20/9lrka67xx/wAuH/bT/wBlrka76fwo78L/AAV/XUKKKKs6AooooA6PwZ/yGJv+vdv/AEJa7muG8Gf8hib/AK92/wDQlrua5qvxHk4z+KcDd/CHw288k+lTapoUsh3MdKvGhUn/AHTkD6ACktvhB4d85JtXutX110YMP7UvWlXP+6MA/Q5roP8AhJ1Xx9/wi0lqELad9ujuDJ/rP3hQoFx265z36d636zOUjgghtYI4LeKOGGNQqRxqFVQOgAHAFeK2dg9rrXxCu7vxZeaReWV9LdwwwzLGm1kDRySIQfMUjauDxweMmvbqoX+h6Tqk8E+oaXZXc0BzFJPArtH9CRxQB51o+rTf8LC8Nazrzx2j6r4WWJDKwQG481XdQDwCQwOOvGK3Ph3PHfXni3UbRxJYXOtObeRR8sm2ONWdT/ECwPPQ4rrr/TbHVbRrTULO3u7ZsZhnjDocdODxU8MMVvCkMMaRxIAqIigKoHYAdKAOQ1a31mPxd4akvNRs57FtVm8mCKyaORP9Eudu6QyMGwMg/KMnnjpXZVz/AIh/5DnhP/sKyf8ApFdV0FABRRTZJEhieWRgqIpZmPQAdTQBheJrmaSK30azcrd6ixj3j/lnEPvt+XH41s2ttDZWkVrAmyKJAiL6AVh+HI31G5ufENwhDXX7u1VhyluDx/30fmP4V0VZw19/v+RlT95ub67en/BCmSyxwQvLK4SNBlmPQCn1h3P/ABPNTNmvNhasDcHtLJ2T6DqaVapyLTVvb+vzOqlT53rolv8A1+RL/wAJBFNj7FaXl3no0cRVP++mxR52vXONlraWanr50hkbH0Xj9a16Kj2VSXxzfy0/zf4le1hH4YL56/5L8DI/se7n/wCP3V7p+fuwAQj6cc/rUsGgaXAxcWcbuTktLlzn6tmtKimsNSTu1d+ev5ieIqtWTsvLT8hAoUAKAAOgFLRRW5iFFFFABRRRQAUUUUAFFFFABRRRQAUUUUAFFFFABRRRQAUUUUAFFFFABRRRQAUUUUAFFFFABRRRQAUUUUAFFFFABRRRQAUUUUAFFFFABXP+Mv8AkB23/YV03/0throK5/xl/wAgO2/7Cum/+lsNAHQUUUUAFFFFABRRRQAUUUUAFFFFABRRRQAUUUUAFZOv+GNE8UWQtNa06C8iH3d4wye6sMFfwIrWpGJCkgZIHA9aAPPG+EGnIdlp4n8VWdt0NtBqZEePTlSf1rb8PfDzw14auze2diZtQPW8u5DNN6cM33fwxVvwZ4mTxf4VtNaW3Fs0+8Pb+ZvMTKxUqSQOePQda3qAI7i4gtLaW5uZo4YIlLySyMFVFHJJJ4AHrWfp3ibQNYuTbaZrem304UuYra7jlYKMAnCknHI596b4o0ubW/CmraVbvGk95aSwRtISFDMpAJwCcc1zWj6nqeh+KtO0DX9O0ZJNRglNneaYrIGaIKzRsjAkcEnO7Bx09ADr21bTV1RdLbULUagyb1tTMvmlfULnOKuV4dbabY3n7P19r91awjWXe41B7zYFmW5W4faQ3UEYC/TjvXskl5cQ6St0tjPdz7EY20DRh2JxnBdlXjJPJHT8KAMzw9/yHPFn/YVj/wDSK1rwWvcvCFxLd6h4pnmsp7KRtVTME5QumLO2HJRmXnrwT19eK8NrvwP2vkefj/s/P9AooorvPOCiiigAr6H8N/8AIr6R/wBeUP8A6AK+eK+h/Df/ACK+kf8AXlD/AOgCuLG/CjuwPxMyvHn/ACA4P+vlf/QWrzyvQ/Hn/IDg/wCvlf8A0Fq88r4rM/8AeH6I+1y3+B82FFFFeed4UUUUAdR4D/5Dk/8A17N/6Eteh1554D/5Dk//AF7N/wChLXodfSZZ/u/zZ87mX8d+iPEvH3/I7ah/2z/9FrXNV0vj7/kdtQ/7Z/8Aota5qsKnxv1PlK38SXqwoooqDMKKKKAPbvAP/Ik6f/20/wDRjUz4hf8AIjaj/wBsv/RqU/wD/wAiTp//AG0/9GNTPiF/yI2o/wDbL/0aleov4Py/Q+jy/wCOl6x/Q8LooorhPtwooooAK0/Df/I06R/1+w/+hisytPw3/wAjTpH/AF+w/wDoYqo7ozq/BL0Z9EV5l8Rf+Rgt/wDr1X/0N69NrzL4i/8AIwW//Xqv/ob17OG+M+Mp7nIUUUV6BuFFFFABXffDT/mKf9sv/Z64Gu++Gn/MU/7Zf+z1jX/hsifwnfV8zV9M18zV5NToVh+oUUUVkdQUUUUAFfTNfM1fTNa0+py4jocj44/5cP8Atp/7LXI113jj/lw/7af+y1yNd9P4Ud+F/gr+uoUUUVZ0BRRRQB0fgz/kMTf9e7f+hLXc1w3gz/kMTf8AXu3/AKEtdzXNV+I8nGfxTyvxj4dsfGXxVtNHvtQ1ewkttKF5ayWl2EQt5rK21Chw+CMsGzgDjjNa9j8M5bG/trr/AITnxfOIJVk8mbUi0cm0g7WGOVOMEelJ8QPA+i6/e22t634m1DSIrJBHEY7xIYo2yTvBYcOcgZB5AHpWd4c8K6TfahFcaT8UPEOqm0kSV7dNaWZCAchXUD7pxj35rM5T0+iiigAooooA5/xD/wAhzwn/ANhWT/0iuq6Cuf8AEP8AyHPCf/YVk/8ASK6roKACud8RSPqV3beHYGINyPNu2U4KQA8/ix4/OuglfyonkKswVS21RknHoO5rE8NWc/l3GrX0ZS9v33sjDmKMfcT8B/Os56+73/IyqXlaHff0NuNEijWONQqKAqqBgADtTqKgvbuKwtJLmc4SMZPqfQD3q5SUVd7I2jFyaiinq97LEI7KzIN7c/Kn/TNe7n6VasLKLT7OO2hztQck9WPcn3NU9ItJcyajeri8uf4f+eSdkH9fetWsKMXN+1l128l/m+vyXQ3qyUV7KPTfzf8Akun39QoooroOcKKKKACiiigAooooAKKKKACiiigAooooAKKKKACiiigAooooAKKKKACiiigAooooAKKKKACiiigAooooAKKKKACiiigAooooAKKKKACiiigAooooAK5/xl/yA7b/ALCum/8ApbDXQVz/AIy/5Adt/wBhXTf/AEthoA6CiiigAooooAKKKKACiiigAooooAKKKKACiiigApGJCkgZIHA9aWigDxLwH8O7LxF4ei8R2finxXp9zfu5uUi1IF/MVyp3t5alm47jv+NeleFvCb+GWui/iHW9W88KANUu/OEe3P3OBjOefoK89ufh/wCFPDWozfafibrWl31yfMm36zHDLIT/ABNwCc+prvfBvh2LRoJru38Uavr1veKjRyX16LlFAzzGRxznn1wKAN3U7FtS06a0S8ubNpAALi1YLIhBBypII7dx0rH0rwfBp+srrF5qmo6rqKRNDFNeyKREjEZCKiqoztGTjPvXR0UAcfP8NtEnuJQ82of2bPcfaptKFyfssk27duK9cbudoIUkDjiuwoooA5/w9/yHPFn/AGFY/wD0ita8Fr3rw9/yHPFn/YVj/wDSK1rwWu/A/a+R5+P+z8/0Ciiiu884KKKKACvofw3/AMivpH/XlD/6AK+eK+h/Df8AyK+kf9eUP/oArixvwo7sD8TMrx5/yA4P+vlf/QWrzyvQ/Hn/ACA4P+vlf/QWrzyvisz/AN4foj7XLf4HzYUUUV553hRRRQB1HgP/AJDk/wD17N/6Eteh1554D/5Dk/8A17N/6Eteh19Jln+7/NnzuZfx36I8S8ff8jtqH/bP/wBFrXNV0vj7/kdtQ/7Z/wDota5qsKnxv1PlK38SXqwoooqDMKKKKAPbvAP/ACJOn/8AbT/0Y1M+IX/Ijaj/ANsv/RqU/wAA/wDIk6f/ANtP/RjUz4hf8iNqP/bL/wBGpXqL+D8v0Po8v+Ol6x/Q8LooorhPtwooooAK0/Df/I06R/1+w/8AoYrMrT8N/wDI06R/1+w/+hiqjujOr8EvRn0RXmXxF/5GC3/69V/9DevTa8y+Iv8AyMFv/wBeq/8Aob17OG+M+Mp7nIUUUV6BuFFFFABXffDT/mKf9sv/AGeuBrvvhp/zFP8Atl/7PWNf+GyJ/Cd9XzNX0zXzNXk1OhWH6hRRRWR1BRRRQAV9M18zV9M1rT6nLiOhyPjj/lw/7af+y1yNdd44/wCXD/tp/wCy1yNd9P4Ud+F/gr+uoUUUVZ0BRRRQB0fgz/kMTf8AXu3/AKEtdzXDeDP+QxN/17t/6EtdzXNV+I8nGfxTyXxnFod58Y9MtfGEka6MmktJZJdPst2ufNIbJJAJ244Pt7ZqeLbDwlpPivwpL4RSxt/ER1aFDDphXLW7ZEnmIhwq7f4sdM9skd1ptvZ/EPwZp974k0G02XcYuIrd287y1YZVg+AQSuDxjrisafTfDnw01nRH0vwxaxW2qXYsJL5XLSwO4+QDcCSrEEHkYx34rM5T0SiiigAooooA5/xD/wAhzwn/ANhWT/0iuq6Cuf8AEP8AyHPCf/YVk/8ASK6roKACiiigArDj/wCJ7qgmPOn2b4jHaaUfxfQdql1e4luJk0m0fbNMN00g/wCWUXc/U9BWlb28Vpbx28KBY412qBXLL99Pl+yt/N9vlu/u7nTH9zDm+09vJd/n0/4YlooorqOYKKKKACiiigAooooAKKKKACiiigAooooAKKKKACiiigAooooAKKKKACiiigAooooAKKKKACiiigAooooAKKKKACiiigAooooAKKKKACiiigAooooAKKKKACuf8Zf8gO2/7Cum/wDpbDXQVz/jL/kB23/YV03/ANLYaAOgooooAKKKKACiiigAooooAKKKKACiiigAooooAKR92xtuN2OM+tLXN+I/FEmja3oGjWlmt3f6xcOiK8nlrHFGu6SQnBzgY4780Aeb/DLTfAup+G5brxGum3XiSSWZtU/tRkMyPvOTtc/KMY5AHOe9bfwtGnW/izxjZ+G5PM8NRzW7W5jYtCsxQ+aI2ydw4XPPHHbBPVax8OvCGv3xvdT0G0mumOXlAKM59WKkbvxzVfwZqVouoa54Yt9Ft9JfRZ0AhtiDHLFIu5JBgDkgHI5we5oA6+iise28U6LeeJrnw5b3yyataxedNbqjfInyjJbG3PzrxnPNAGxRXPSeOvDEWtf2Q+sW4vPM8kjny1l/55mTGwPwflJz7V0NAHP+Hv8AkOeLP+wrH/6RWteC1714e/5Dniz/ALCsf/pFa14LXfgftfI8/H/Z+f6BRRRXeecFFFFABX0P4b/5FfSP+vKH/wBAFfPFfQ/hv/kV9I/68of/AEAVxY34Ud2B+JmV48/5AcH/AF8r/wCgtXnleh+PP+QHB/18r/6C1eeV8Vmf+8P0R9rlv8D5sKKKK887wooooA6jwH/yHJ/+vZv/AEJa9DrzzwH/AMhyf/r2b/0Ja9Dr6TLP93+bPncy/jv0R4l4+/5HbUP+2f8A6LWuarpfH3/I7ah/2z/9FrXNVhU+N+p8pW/iS9WFFFFQZhRRRQB7d4B/5EnT/wDtp/6MamfEL/kRtR/7Zf8Ao1Kf4B/5EnT/APtp/wCjGpnxC/5EbUf+2X/o1K9Rfwfl+h9Hl/x0vWP6HhdFFFcJ9uFFFFABWn4b/wCRp0j/AK/Yf/QxWZWn4b/5GnSP+v2H/wBDFVHdGdX4JejPoivMviL/AMjBb/8AXqv/AKG9em15l8Rf+Rgt/wDr1X/0N69nDfGfGU9zkKKKK9A3CiiigArvvhp/zFP+2X/s9cDXffDT/mKf9sv/AGesa/8ADZE/hO+r5mr6Zr5mryanQrD9QooorI6gooooAK+ma+Zq+ma1p9TlxHQ5Hxx/y4f9tP8A2WuRrrvHH/Lh/wBtP/Za5Gu+n8KO/C/wV/XUKKKKs6AooooA6PwZ/wAhib/r3b/0Ja7muG8Gf8hib/r3b/0Ja7muar8R5OM/inlvhb4p6LpGj2ug+LJJdF1rToVtp4rmFtsmwbd6sowQcZ7deMjmodV8U2fxL8QaJofhcS3djZajFf6jqBiZIY0iJIjBYAlmPT6dxnHpt7pen6koW+sbW6C9BPCr4/MVNb2tvaQiG2gihiHRI0CgfgKzOUlrybW7mOy8Ua/c+Im8Z22mLcoYbywuLhLOGLyY88Rtn7+/JCkZ6nNes1xfiKw8aa5Z6nosUeh2+n3iyQC8aaV5FhYEf6rbgvg/3sUAV9bnufEHj+z8LQ6neWemppLajcPZS+XJOTKERfMHzAcMflIz3q94Fv7+Vdb0jUb576bSNQa1juZQBJJCUV034ABYBiCe+M1DeeEL7TdS0jVvDMtr9q07Tv7MaC+3bbi3BUqPMXJVgVznBzmtPwl4futCtb+XULxLrUdRvHvLl4kKxqzBQEQEk7VCgDPJoAoavruj33izwzp1nqtjcX0Gqy+dbQ3CPJHttLlW3KDkYJAOehrsK5/xD/yHPCf/AGFZP/SK6roKACqmpX6adZtOyl3JCxxjq7noBVpmVFLMQqgZJJ4ArFsFbV9Q/tSUH7LFlLND39ZD9e1YVptWhD4n+Hd/L8zajBO85/Cvx8vn+Ra0iwe0hea5Ie9uDvnf37KPYdK0aKK0pwVOKjEic3OTlIKKKKsgKKKKACiiigAooooAKKKKACiiigAooooAKKKKACiiigAooooAKKKKACiiigAooooAKKKKACiiigAooooAKKKKACiiigAooooAKKKKACiiigAooooAKKKKACuf8Zf8gO2/7Cum/wDpbDXQVz/jL/kB23/YV03/ANLYaAOgooooAKKKKACiiigAooooAKKKKACiiigAooooAK8/+Igv9H1rw74xtLOa9ttIeaO+toF3SGGZQpdR32lc4/UDJr0CigDgh8aPABshc/2+oGM+WbeXfn027f8A61M+HhvNb13xD4yuLOWztNVMEVhDOu2QwxKR5hHYMWyP6jBPYf2Fo5uvtX9lWP2j/nr9nTf+eM1oUAYni7Vr3Q/C97f6dZSXl6ihYIY42k+diFDFVBJVc7jjnANeXeEbjTNM+MdpBbJqUjS+HjFNPcafNHJPcPdb3lcMoIUnPzH5RwM8Yr2ys7+w9P8A+Ej/AOEg8g/2n9k+xedvbHk79+3bnH3uc4zQB5LbeSP2aNRN9s+1AXP2jfjd9q+0tjP+1u2479K9ekfUE0lXtoLee/CJ+7nmaJC3G7LBXI7/AMJ9OOtZcngbwzLrB1V9IgN0ZPObr5bS9pGjzsL8n5iM89a6GgDl/CD3kmoeKWv4IILo6qm+OCYyov8AodtjDFVJ4x/CPTnrXhte9eHv+Q54s/7Csf8A6RWteC134H7XyPPx/wBn5/oFFFFd55wUUUUAFfQ/hv8A5FfSP+vKH/0AV88V9D+G/wDkV9I/68of/QBXFjfhR3YH4mZXjz/kBwf9fK/+gtXnleh+PP8AkBwf9fK/+gtXnlfFZn/vD9Efa5b/AAPmwooorzzvCiiigDqPAf8AyHJ/+vZv/Qlr0OvPPAf/ACHJ/wDr2b/0Ja9Dr6TLP93+bPncy/jv0R4l4+/5HbUP+2f/AKLWuarpfH3/ACO2of8AbP8A9FrXNVhU+N+p8pW/iS9WFFFFQZhRRRQB7d4B/wCRJ0//ALaf+jGpnxC/5EbUf+2X/o1Kf4B/5EnT/wDtp/6MamfEL/kRtR/7Zf8Ao1K9Rfwfl+h9Hl/x0vWP6HhdFFFcJ9uFFFFABWn4b/5GnSP+v2H/ANDFZlafhv8A5GnSP+v2H/0MVUd0Z1fgl6M+iK8y+Iv/ACMFv/16r/6G9em15l8Rf+Rgt/8Ar1X/ANDevZw3xnxlPc5CiiivQNwooooAK774af8AMU/7Zf8As9cDXffDT/mKf9sv/Z6xr/w2RP4Tvq+Zq+ma+Zq8mp0Kw/UKKKKyOoKKKKACvpmvmavpmtafU5cR0OR8cf8ALh/20/8AZa5Guu8cf8uH/bT/ANlrka76fwo78L/BX9dQoooqzoCiiigDo/Bn/IYm/wCvdv8A0Ja7muG8Gf8AIYm/692/9CWu5rmq/EeTjP4pw/irxR4ij8UW3hnwlp9jcai1qby4nv2YQwRbti/dwSSQenp0PaOxj+K4v7Y383hA2fmr54gFx5nl5G7bkY3YzjPeq/jLw74zuPG1jr/hKTR7dobL7NNJeF98wLlijAAjYPlIIw2SecVYsZPiub+2F/D4QFn5q+eYDceZ5eRu25ON2M4zxmszlO8ooooAKKKKAOf8Q/8AIc8J/wDYVk/9Irqugrn/ABD/AMhzwn/2FZP/AEiuq6CgBCAQQQCD1BoRFjRURQqKMBQMAD0paKACiiigAooooAKKKKACiiigAooooAKKKKACiiigAooooAKKKKACiiigAooooAKKKKACiiigAooooAKKKKACiiigAooooAKKDwKrQo8sSSNM+XAbAwAM/hQBZoqLyT/z2l/Mf4UeSf8AntL+Y/woAloqLyT/AM9pfzH+FHkn/ntL+Y/woAloqLyT/wA9pfzH+FHkn/ntL+Y/woAloqLyT/z2l/Mf4UeSf+e0v5j/AAoAloqLyT/z2l/Mf4UeSf8AntL+Y/woAloqLyT/AM9pfzH+FHkn/ntL+Y/woAlrn/GX/IDtv+wrpv8A6Ww1sEPFJGRKzKzbSrY9DWP4y/5Adt/2FdN/9LYaAOgooooAKKKKACiiigAooooAKKKKACiiigAooooAKQkKCScAck0tFAHl+m+JfiR4wt21bw5Y+HrLRpXYWjam0xmlQMV3EJ0zjoQPx611vhZfGStdf8JY+iMuF+z/ANl+bnPO7fvH+7jHvXC+HfD/AMWPC9m9jp7eEzYeY7w2sjTlLfcxYqhADYyT94nrXdeFm8ZM11/wliaIq4X7P/Zfm5zzu37z/u4x70AdHRRRQAUUUUAc/wCHv+Q54s/7Csf/AKRWteC1714e/wCQ54s/7Csf/pFa14LXfgftfI8/H/Z+f6BRRRXeecFFFFABX0P4b/5FfSP+vKH/ANAFfPFfQ/hv/kV9I/68of8A0AVxY34Ud2B+JmV48/5AcH/Xyv8A6C1eeV6H48/5AcH/AF8r/wCgtXnlfFZn/vD9Efa5b/A+bCiiivPO8KKKKAOo8B/8hyf/AK9m/wDQlr0OvPPAf/Icn/69m/8AQlr0OvpMs/3f5s+dzL+O/RHiXj7/AJHbUP8Atn/6LWuarpfH3/I7ah/2z/8ARa1zVYVPjfqfKVv4kvVhRRRUGYUUUUAe3eAf+RJ0/wD7af8AoxqZ8Qv+RG1H/tl/6NSn+Af+RJ0//tp/6MamfEL/AJEbUf8Atl/6NSvUX8H5fofR5f8AHS9Y/oeF0UUVwn24UUUUAFafhv8A5GnSP+v2H/0MVmVp+G/+Rp0j/r9h/wDQxVR3RnV+CXoz6IrzL4i/8jBb/wDXqv8A6G9em15l8Rf+Rgt/+vVf/Q3r2cN8Z8ZT3OQooor0DcKKKKACu++Gn/MU/wC2X/s9cDXffDT/AJin/bL/ANnrGv8Aw2RP4Tvq+Zq+ma+Zq8mp0Kw/UKKKKyOoKKKKACvpmvmavpmtafU5cR0OR8cf8uH/AG0/9lrka67xx/y4f9tP/Za5Gu+n8KO/C/wV/XUKKKKs6AooooA6PwZ/yGJv+vdv/Qlrua4bwZ/yGJv+vdv/AEJa7muar8R5OM/inl3jmHVvEnjK60CDV7zT9PsNEOobLGbypLicuyqrN3TC8j/HI5K08Pf2XpfgTxZF4g1i6i1C7soru0lv2Kl5AMlMcnDg5Q5yMjivT/FGt+D/AAnrtrrWtTeTq0tu1pbmNZHkli3Bimxcgjdjkjr3rg9Dn+FcfiuyutN0/VY7o3C/ZYGt5xbwzOcbwp+VTyPYYGAMVmcp7XRRRQAUUUUAc/4h/wCQ54T/AOwrJ/6RXVdBXP8AiH/kOeE/+wrJ/wCkV1XQUAFFFFABRRRQAUUUUAFFFFABRRRQAUUUUAFFFFABRRRQAUUUUAFFFFABRRRQAUUUUAFFFFABRRRQAUUUUAFFFFABRRRQAUUUUAIfun6VWFzBaabHPczxwwqi7pJXCqM4AyT71ZP3T9Kjtv8Aj0h/3F/lQBR/4STQv+g1p3/gUn+NH/CSaF/0GtO/8Ck/xrToq7x7fj/wCLT7/h/wTM/4STQv+g1p3/gUn+NH/CSaF/0GtO/8Ck/xrToovHt+P/AC0+/4f8EK53xl4pbwlpVrerp8l+095FaCGOQIxLnGRkYJ9jjPqK6Kud8XaFda7Do6WjRKbPVrW9k8xiMxxvuYDAPOOlQWYi+OPEQ15vDsnhOIa01ut3Ei6iGg8gkqzNJsBBVsDAU5J7DmtjTPGMV74YbV59NvUmhuHtbmytomuZYpUcoy4QZYZGc46HNPfQrpviND4gDRfY00l7IruO/zDMjg4xjGFPeqmieEJINM1qx1OZwl9rFzfRtZXMkThJH3KCylWB9QDj60AO/4T6y/6Afib/wSXP8A8RVH4pWVzJ4MvtWtNZ1XTpdPtZJkSyuPJEjYGN+BuOMdAR1NaP8AwgOkf8/euf8Ag7u//jlR+P8AStf1vw3Po2hw6eyXsDwzy3k7oYwcYKhVbd/FnOO1AHRaa7SaVZu7FmaBCWJySdo5q1WR4bXWY9HSHXILKG5ixGgs5mkRkCgAksqkHOePpzWvQBFN1i/66D+RrE8Zf8gO2/7Cum/+lsNbc3WL/roP5GsTxl/yA7b/ALCum/8ApbDQB0FFFFABRRRQAUUUUAFFFFABRRRQAUUUUAFFFFABTZG2Rs+M7QTinUUAfP1ppGpeJv8AhENa1zxPq4PiO4uEnS0vDFFbjY5iWJcYByoznPPHue1+GumSeHvF/izQJtSvdRa1+zSRXFzcGQ+W6sQpXorA55/iBHAxWfq+u/CmLSpPCEkU11Z2dwzmC0hnkFvLuYkq46HJb7pxyR7VvfDKXwiLfULfwvFfh9yS3c99HIJJmOQCWfr0PA4H40Adtf3ZsbCe6FtPcmJCwht1DSSeygkAn8RWDpfjSC+1uLR77StS0i/niaW3jvkQCdVxu2MjMCQCCR1roLm6t7KAz3VxFBCCAZJXCqCSABk8ckgD3NeaxQXGn/F7RVn1r/hIXuba5CrIqiTTUAB3gJhdrnCEsM8DBPNAHQTfEnRIbyRWh1D+zorj7LLqotj9ljm3bdhfr97jdjbkjmuwrw621Gys/wBnvUNDurmJtXia4sJLTfula5a4faNvUkk7vpk9q9kkhv8A+yVhtLmCK9CIBNPAZUBGM5RWUnIz0YYz36UAZnh7/kOeLP8AsKx/+kVrXgte5eEEvI9Q8UrfzwT3Q1VN8kEJiRv9DtsYUsxHGP4j68dK8NrvwP2vkefj/s/P9AooorvPOCiiigAr6H8N/wDIr6R/15Q/+gCvnivofw3/AMivpH/XlD/6AK4sb8KO7A/EzK8ef8gOD/r5X/0Fq88r0Px5/wAgOD/r5X/0Fq88r4rM/wDeH6I+1y3+B82FFFFeed4UUUUAdR4D/wCQ5P8A9ezf+hLXodeeeA/+Q5P/ANezf+hLXodfSZZ/u/zZ87mX8d+iPEvH3/I7ah/2z/8ARa1zVdL4+/5HbUP+2f8A6LWuarCp8b9T5St/El6sKKKKgzCiiigD27wD/wAiTp//AG0/9GNTPiF/yI2o/wDbL/0alP8AAP8AyJOn/wDbT/0Y1M+IX/Ijaj/2y/8ARqV6i/g/L9D6PL/jpesf0PC6KKK4T7cKKKKACtPw3/yNOkf9fsP/AKGKzK0/Df8AyNOkf9fsP/oYqo7ozq/BL0Z9EV5l8Rf+Rgt/+vVf/Q3r02vMviL/AMjBb/8AXqv/AKG9ezhvjPjKe5yFFFFegbhRRRQAV33w0/5in/bL/wBnrga774af8xT/ALZf+z1jX/hsifwnfV8zV9M18zV5NToVh+oUUUVkdQUUUUAFfTNfM1fTNa0+py4jocj44/5cP+2n/stcjXXeOP8Alw/7af8AstcjXfT+FHfhf4K/rqFFFFWdAUUUUAdH4M/5DE3/AF7t/wChLXc1w3gz/kMTf9e7f+hLXc1zVfiPJxn8U8r8b6/YeCvihpmvTK+oT3mnNYf2fbJvuEUSFxKg6EHlSMg+mecbdj8U9Kv762tE0bxDG88ixK0umsqqWIGWOeBzyaxPGGrXXhX4rWmuWnh7V9XWbSfslx9ktC6xr5pYFXGfm4OVIAwVOa2LH4oxX1/bWg8HeL4DPKsXmz6YFjTcQNzHfwozkn0rM5TvKx/EfinRfCdgl9rl8tpbvII1YozlmIJwFUEngHtWxXgPxS1Iatoniq61Sy1CG4tnSx0uOSwmEUcSzxmSYyldm6Qrwc/dVR1JoA9p1zxLpHhyKJ9VvVgMxKwxBWeSUjrsRQWbGRnA4zVnS9VsNb0+K/0y7hu7SUZSWJtwPt7EdweRXE296mo/GbT7srMtrL4dkNoLiFomEn2geZ8rgMG27e3SrngAx/2p4zFts+yDXZNuzp5nlx+Z7fezn3zQBreIf+Q54T/7Csn/AKRXVdBXH6vNrD+LPDKXljYxWI1WXyZobx5JH/0S527kMShcjJOGbB45612FABRRRQAUUUUAFFFFABRRRQAUUUUAFFFFABRRRQAUUUUAFFFFABRRRQAUUUUAFFFFABRRRQAUUUUAFFFFABRRRQAUUUUAFFFFACH7p+lR23/HpD/uL/KpD90/SoI5orewilmkSONUXLuwAHTuaTaSuxpNuyLFFUv7Y0z/AKCNp/3/AF/xo/tjTP8AoI2n/f8AX/Go9tT/AJl95fsan8r+4u0VS/tjTP8AoI2n/f8AX/Gj+2NM/wCgjaf9/wBf8aPbU/5l94exqfyv7i7RUf2iH/nqn/fQrnfGPjCPwppdteR2bag095FaiGKUK3znGRkYJ9jjPqK1szK6Omorz0fEDXBrj6BJ4XhGsNAt1Eq6kGg8kkqzNJ5YIKtgYCnOewrY0zxza3vhs6rPYXsc8Uz21xZW0TXMkUqOUYfIPmGRnOOhoswujqqK5H/hYVgemi+JT9NFuP8A4msnxzPdSa9o7rbeKZtMFrcGdNDeSNhJui2F9rLnA8zjOfQUrDueiUVzvhPU9NuvDsEmlTaleWoZ18y8aR5gwYhlcyfNkHIwfT0rfjk8zPyOuP7wp2FcbN1i/wCug/kaxPGX/IDtv+wrpv8A6Ww1tzdYv+ug/kaxPGX/ACA7b/sK6b/6Ww0hnQUUUUAFFFFABRRRQAUUUUAFFFFABRRRQAUUUUAFIRuUjnnjilpGAZSp6EYNAHivgT4h6R4T0uXwsljqOqRaZPLGupaXaGWKcFywJ6ENzg9QccEjFeleGfGFn4qa5W0sdTtfs4Ut9utTDu3Zxtz16c/hXmngPxzceEvDkWg3PgnxXLb2jyC3uIdMIaVGcsC6EgK3zc4Jr0nwt4vTxS10qaHremfZwpJ1S08kSbs/c+Y5xjn6igDcvbG01KzktL61huraQAPDPGHRuc8g8HkA1U0vw/o2ibv7K0mxsS/3jbW6xlvqQOa0qKAKTaRpr6ouptp9q2oKuxbowr5oX0DYzirtFFAHP+Hv+Q54s/7Csf8A6RWteC1714e/5Dniz/sKx/8ApFa14LXfgftfI8/H/Z+f6BRRRXeecFFFFABX0P4b/wCRX0j/AK8of/QBXzxX0P4b/wCRX0j/AK8of/QBXFjfhR3YH4mZXjz/AJAcH/Xyv/oLV55Xofjz/kBwf9fK/wDoLV55XxWZ/wC8P0R9rlv8D5sKKKK887wooooA6jwH/wAhyf8A69m/9CWvQ6888B/8hyf/AK9m/wDQlr0OvpMs/wB3+bPncy/jv0R4l4+/5HbUP+2f/ota5qul8ff8jtqH/bP/ANFrXNVhU+N+p8pW/iS9WFFFFQZhRRRQB7d4B/5EnT/+2n/oxqZ8Qv8AkRtR/wC2X/o1Kf4B/wCRJ0//ALaf+jGpnxC/5EbUf+2X/o1K9Rfwfl+h9Hl/x0vWP6HhdFFFcJ9uFFFFABWn4b/5GnSP+v2H/wBDFZlafhv/AJGnSP8Ar9h/9DFVHdGdX4JejPoivMviL/yMFv8A9eq/+hvXpteZfEX/AJGC3/69V/8AQ3r2cN8Z8ZT3OQooor0DcKKKKACu++Gn/MU/7Zf+z1wNd98NP+Yp/wBsv/Z6xr/w2RP4Tvq+Zq+ma+Zq8mp0Kw/UKKKKyOoKKKKACvpmvmavpmtafU5cR0OR8cf8uH/bT/2WuRrrvHH/AC4f9tP/AGWuRrvp/Cjvwv8ABX9dQoooqzoCiiigDo/Bn/IYm/692/8AQlrua4bwZ/yGJv8Ar3b/ANCWu5rmq/EeTjP4p5b4v8eWngb4qWj6rqNw2m3elBHs4/MYQP5rYm2/dIIBXjLcdMddmx+MPgPUb62srXXd9zcyLFEn2ScbnYgAZKYHJpPGvjmbQtUXSNI0L+2NVFm1/MrSrEkFupILsxHPI+6OfzGedsPiN4pe/wDD32/wfYWen63JCLa9N4CpEgDADjh9ucKcEkYFZnKeuVna7oen+JNGuNJ1WAz2Vxt8yMOyZ2sGHKkEcqK0aKAMrW/DekeIo4V1OzWZoG3QyqzRyxE9SjqQy5wM4POKs6XpNhomnx2GmWkVrax/djiXA9z7k9yeTVyigDn/ABD/AMhzwn/2FZP/AEiuq6Cuf8Q/8hzwn/2FZP8A0iuq6CgAooooAKKKKACiiigAooooAKKKKACisvUvEWk6Sdt5fRJLwBEp3yEnp8oyaz/7b1vUhjSNEaBD0uNSPlr+CDLEflWipyav0M3VinbdnSUVzn9k+J5SrP4njh7skOnoR9AWJp66BqrY87xPfNj/AJ5xRJ/7KaOSP8y/H/IXtJfyv8P8zoKK5w+E2cqZPEWvNt7LdhAfrhRT18IWPHm3mqTY/wCel9J/Qijlh/N+Ac1T+X8ToKie5gjxvmjXPTLAVgnwJ4cYqZLB5SvTzLiRv0LVYj8H+HYsbdHtTj+8m7+dFqfd/d/wQvV7L7/+AW5Ne0eHHm6tYpnpuuEGf1qu/ivw+mM6zZc+kwP8qlTw5ocZBTR7BSOhFsmR+OKtx2NnDjyrSBMcjbGBR+78w/e+Rit478NKyqNTV2boEikY/otOXxlpUmPJS+mzx+7spT/7LW+AFGAAB7UtF6fZ/f8A8ALVO6+7/gnOHxepKiPQdek3d1siAPqSRT18RX0mPK8Naoc/89PLT+bV0FFHPD+UOSfWX4HNvrfiM48rwk7Z677+Jcfzp/8AafidmAHh23UHu2oA4/Ja6Gij2kf5V+P+Yezl/M/w/wAjAF34pZ+NK01F/wBq7Y/ySmeZ4xYHFvoantullP8AJa6Kij2i/lQezf8AMznEXxoynzJdBQ9tiTN/Min/AGfxY6DdqGlRt/sWzn+bV0FFHtX2X3B7Jd395z7af4ncL/xPrSM9wlhn+bVGdG8TNIGPiwKvdU02P+ZJrpKKPay7L7l/kHsY9397/wAzn10TW9+ZPFNyR6LaxL/SgeHb85D+JdTIP90Rr/7LXQUUe1l5fch+yj5/e/8AM5w+FJXQq/iTXee63KqfzC0L4QjCBX1zXZPdr9v6V0dFP20+4vYw7HPt4QsWUb7zU3Kjq19If61q29rE1tCSGJ2L/EfSrR+6fpUdt/x6Q/7i/wAqhzlLdlRpxjshv2K3zny+fcmlFpAP+WS1NRSuyrIiFtAP+WSflS/Z4f8Ankn/AHyKkoouwshnlRj/AJZp+Vc/4t0G51yHR0tDCps9Wtb2TzCRmON9zAYB5x0ro6KQznW0K6PxGh8QBovsaaS9kVyd/mGZHBxjGMKe9VNE8ISQaZrVjqczhL7WLm+jayuZInCSPuUFlKsD6gHH1rraKAOX/wCEB0j/AJ+9c/8AB3d//HKt6zJ4ohuY10O00m4tjFhje3MkTq+evyo2Vxj0NbtFAHPeDvDs3hzS7pLu4jnvr69mvrqSJSsZkkbJCgngAAD8M966GiigCKbrF/10H8jWJ4y/5Adt/wBhXTf/AEthrbm6xf8AXQfyNYnjL/kB23/YV03/ANLYaAOgooooAKKKKACiiigAooooAKKKKACiiigAooooAKRhuUjJGRjI6iloJABJOAOpNAHi3gP4zeG9O8PRaV4i1yeW9tHdDfvFNKt0u8lXBIL9CBhgOlekeGfHHhzxi1yug6j9rNqFM37iSPbuzj76jP3T09K4JvijrWqX1kPDngyG5sNRlmi064ubpYjdmJSXIXHyfdP3jz+YHTfD/wAW6r4ku9ZtNW0S30m506SOOSBJt8gZgT8wxwMYIPQ846UAdxRVTVLm7tNNnnsbE310i/urYSiPzDnGNx4H1rn9M8Vaj/wkcGha/oqaddXcEk1rJBdi4jlCbdy52qVYBgemPegDq6K4KX4kvHBNrC6Bcv4YguGt5dTEybsq5QyLF1MQYYLZz328Gu9BBAIOQehFAHP+Hv8AkOeLP+wrH/6RWteC1714e/5Dniz/ALCsf/pFa14LXfgftfI8/H/Z+f6BRRRXeecFFFFABX0P4b/5FfSP+vKH/wBAFfPFfQ/hv/kV9I/68of/AEAVxY34Ud2B+JmV48/5AcH/AF8r/wCgtXnleh+PP+QHB/18r/6C1eeV8Vmf+8P0R9rlv8D5sKKKK887wooooA6jwH/yHJ/+vZv/AEJa9DrzzwH/AMhyf/r2b/0Ja9Dr6TLP93+bPncy/jv0R4l4+/5HbUP+2f8A6LWuarpfH3/I7ah/2z/9FrXNVhU+N+p8pW/iS9WFFFFQZhRRRQB7d4B/5EnT/wDtp/6MamfEL/kRtR/7Zf8Ao1Kf4B/5EnT/APtp/wCjGpnxC/5EbUf+2X/o1K9Rfwfl+h9Hl/x0vWP6HhdFFFcJ9uFFFFABWn4b/wCRp0j/AK/Yf/QxWZWn4b/5GnSP+v2H/wBDFVHdGdX4JejPoivMviL/AMjBb/8AXqv/AKG9em15l8Rf+Rgt/wDr1X/0N69nDfGfGU9zkKKKK9A3CiiigArvvhp/zFP+2X/s9cDXffDT/mKf9sv/AGesa/8ADZE/hO+r5mr6Zr5mryanQrD9QooorI6gooooAK+ma+Zq+ma1p9TlxHQ5Hxx/y4f9tP8A2WuRrrvHH/Lh/wBtP/Za5Gu+n8KO/C/wV/XUKKKKs6AooooA6PwZ/wAhib/r3b/0Ja7muG8Gf8hib/r3b/0Ja7muar8R5OM/inL3Hhm6m8eXOsGSBtNvNI/s+eJifMDiQsCvGCuGYHJ9K5Cz8G+NpYvD/hzU5NIOh6Ldw3C30DMJpkhP7tNpHytwMn06E85v+Lf7T8SfEBPCkGuXekafb6UdRmaxfy57hjIUChuyjHb15B4xmDV721+Gfw9vk1K6W8m1CyiYCVs3QckOj8/MCMnnuBWZynrdFFFABRRRQBz/AIh/5DnhP/sKyf8ApFdV0Fc/4h/5DnhP/sKyf+kV1XQUAFFFFABRRRQAUUVl67rKaNZK6xme6mcRW1up5lc9B9PU04xcnZClJRV2alZ+pa5pejpuv76GA4yEZssR7KOT+ArKGja7qYzq2tG2jPW30xdn5yHLGtHTvDmkaU3mWtjGJupmf55Ce/zHJrTlhHd39P8AMz5py+FW9f8AIzz4h1PUDt0bQ53Q8C5vj5Ef1A+8w/AUDw/quondrOuSmM9bawHkp9C33mH5V0lFHtLfCrB7K/xu/wCX9epnaboOlaOP9AsYYWxguFy5+rHk/nWjRRWbk5O7NFFRVkgooopDCiiigAooooAKKKKACiiigAooooAKKKKACiiigAooooAKKKKACiiigAooooAQ/dP0qstxBaadHPczRwxKi7pJGCqM4HJPvVk/dP0qO2/49If9xf5UAUv+Eh0T/oMaf/4Ep/jR/wAJDon/AEGNP/8AAlP8a0qKm0u/9feRaff8P+CZv/CQ6J/0GNP/APAlP8aP+Eh0T/oMaf8A+BKf41pUUWl3/r7wtPv+H/BCud8ZeKW8JaVa3q6fJftPeRWghjkCMS5xkZGCfY4z6iuirnfF2hXWuw6Olo0Smz1a1vZPMYjMcb7mAwDzjpVFmIvjjxENebw7J4TiGtNbrdxIuohoPIJKszSbAQVbAwFOSew5rY0zxjFe+GG1efTb1Jobh7W5sraJrmWKVHKMuEGWGRnOOhzT30K6b4jQ+IA0X2NNJeyK7jv8wzI4OMYxhT3qponhCSDTNasdTmcJfaxc30bWVzJE4SR9ygspVgfUA4+tADv+E+sv+gH4m/8ABJc//EVR+KVlcyeDL7VrTWdV06XT7WSZEsrjyRI2BjfgbjjHQEdTWj/wgOkf8/euf+Du7/8AjlR+P9K1/W/Dc+jaHDp7JewPDPLeTuhjBxgqFVt38Wc47UAVPF2s6hY+FtAt7G6kt7zV760sPtSgM8Qk5dxuyM7Vbr60zSVvPDXxAh8P/wBrXt/pl9p8l1Et/L50sU0bqGxIRkqwbOCeCDjGcVJdeGtb8QeEbWz1Q6fYatp93Dc2M1szXEYaLaVZgwU8/MCB0B6npVrRtB1uXxSfEfiGeyW5jszZW9pY7mjRSwZ3LNglmKjjAAA7nmgDp5usX/XQfyNYnjL/AJAdt/2FdN/9LYa25usX/XQfyNYnjL/kB23/AGFdN/8AS2GgDoKKKKACiiigAooooAKKKKACiiigAooooAKKKKACkdQ6Mh6MMHFLSO21GbBOBnAoA81i8C+I9P8ABvhu2sbrTDrnh+5eSBpN5hniO9drHAZSUYZx3H4jY8F6HrsGta34i8RpZwX2qeSi2lo5ZYY4lIG5iOWO488+3oOE8PTazq9x4P8AGV/4ivppNY1V4jp0Uu20gjCTYUIOpGwcn8cnmu68PahcSfE3xhp322e4tYI7OVYpHLLbO6NuVc9AQFbA460AdFr+u2PhrQrvWNSkZLS1Tc5Vck5IAAHqSQB9a4LwP4h0bxN4lTXb/WrKXXbuJorDS4pg32KDG4qPWQhdzt7YHAr05lVhhgCD2IpqwxqcrGgI7hRQB4lDerpvwhu/ADQXD+Jl8+yjsVgcPNvmYrKvGDHtO4vnHB55Fexz2Es2kCyjv7m0lCIv2mDYZFxjJG9WXnGDkHqau4Gc45ooA5bwdayWV94ot5r24vXTVVzcXATe+bO2POxVXjOOAOB+NeHV714e/wCQ54s/7Csf/pFa14LXfgftfI8/H/Z+f6BRRRXeecFFFFABX0P4b/5FfSP+vKH/ANAFfPFfQ/hv/kV9I/68of8A0AVxY34Ud2B+JmV48/5AcH/Xyv8A6C1eeV6H48/5AcH/AF8r/wCgtXnlfFZn/vD9Efa5b/A+bCiiivPO8KKKKAOo8B/8hyf/AK9m/wDQlr0OvPPAf/Icn/69m/8AQlr0OvpMs/3f5s+dzL+O/RHiXj7/AJHbUP8Atn/6LWuarpfH3/I7ah/2z/8ARa1zVYVPjfqfKVv4kvVhRRRUGYUUUUAe3eAf+RJ0/wD7af8AoxqZ8Qv+RG1H/tl/6NSn+Af+RJ0//tp/6MamfEL/AJEbUf8Atl/6NSvUX8H5fofR5f8AHS9Y/oeF0UUVwn24UUUUAFafhv8A5GnSP+v2H/0MVmVp+G/+Rp0j/r9h/wDQxVR3RnV+CXoz6IrzL4i/8jBb/wDXqv8A6G9em15l8Rf+Rgt/+vVf/Q3r2cN8Z8ZT3OQooor0DcKKKKACu++Gn/MU/wC2X/s9cDXffDT/AJin/bL/ANnrGv8Aw2RP4Tvq+Zq+ma+Zq8mp0Kw/UKKKKyOoKKKKACvpmvmavpmtafU5cR0OR8cf8uH/AG0/9lrka67xx/y4f9tP/Za5Gu+n8KO/C/wV/XUKKKKs6AooooA6PwZ/yGJv+vdv/Qlrua4bwZ/yGJv+vdv/AEJa7muar8R5OM/inC/EXQfD11FbaxqevSeHr+1Bjt9RhnETkHrGR/Gvfb9fU55f4d+GvCVzqllLF41k8SXGlrmxs5X2R2wHAdYSeo9fx64NW/Gt54etfi3pbeMZLOTSv7LYWcVyVkSK4aT5mePBIBVQAx+XKnuOM7xbr/gX/hJfDU/h2+0eHWYtTieW9tnjijS2wRKJJOFIKnAXOeePQ5nKe0UVQ0zW9J1pJH0rVLK/WMgO1rcJKFJ6A7ScVy/i7V/Ffh201LWo7vQP7NtEMsdpPHIssiAZI8zfjeTkAbccgUAdvRXGah4r1S81TStF8P2ltFqN9p/9pSvqJbbaw5UAFF5ZizYxkYx3rT8JeILnXbO9j1CzS01HTrt7O6jicvGXUKd6EgHawYEZ5GcUAHiH/kOeE/8AsKyf+kV1XQVz/iH/AJDnhP8A7Csn/pFdV0FABRRRQAUUUUAQ3V1DZWstzcyCOGJSzuewFYGhW0+rX58R6hGULqUsIG/5YxH+I/7TfyqGYnxbrRtV50TT5P357XMw6J7qvU+p/A11fStn+7jbq/wRiv3kr9F+LCiiisTYKKKKACiiigAooooAKKKKACiiigAooooAKKKKACiiigAooooAKKKKACiiigAooooAKKKKACiiigBD90/So7b/AI9If9xf5VIfun6VWFzb2emx3F1PFBCiLuklcKozgDJPHU0DSbdkWqKy/wDhJtA/6Dmm/wDgXH/jR/wk2gf9BzTf/AuP/Gp5o9zT2FX+V/calFZf/CTaB/0HNN/8C4/8aP8AhJtA/wCg5pv/AIFx/wCNHNHuHsKv8r+41KKK53xl4pbwlpVrerp8l+095FaCGOQIxLnGRkYJ9jjPqKoyOiorgl8ceIhrzeHZPCcQ1prdbuJF1ENB5BJVmaTYCCrYGApyT2HNbGmeMYr3ww2rz6bepNDcPa3NlbRNcyxSo5RlwgywyM5x0OaAOlorlP8AhPrL/oB+Jv8AwSXP/wARVrxDoFpqjf2hfazqtha20DFltr5rWNccmRiuDkD1OBjpQB0NFeSweJde/wCFd6QqX9yJ9X1xdNstSkRfOa0eRisxDDG4xqcEj0PXmug0lbzw18QIfD/9rXt/pl9p8l1Et/L50sU0bqGxIRkqwbOCeCDjGcUAdrN1i/66D+RrE8Zf8gO2/wCwrpv/AKWw1tzdYv8AroP5GsTxl/yA7b/sK6b/AOlsNAHQUUUUAFFFFABRRRQAUUUUAFFFFABRRRQAUUUUAFFFI2dp2nBxxmgDw/xX4a8HaNrvl2nxDm8POtybn+z4pPNS3lYEFkUH90SGP58cYr0bwDoWhaPoj3Giag2q/bpPNuNSknE0lw/T5m9umO3PcmvPvh1rHw+t9BnTX7nRT4gMsx1K4vDFIZ2ZySVkxtdSMEBSaveAfFHhLT/E3ittP1nS9O8PTTwtaQTXMcCtMExK0cbEFVOEHTBxx6UAevUUyKWOeJJYnWSN1DI6HIYHkEHuKfQAUUUUAc/4e/5Dniz/ALCsf/pFa14LXvXh7/kOeLP+wrH/AOkVrXgtd+B+18jz8f8AZ+f6BRRRXeecFFFFABX0P4b/AORX0j/ryh/9AFfPFfQ/hv8A5FfSP+vKH/0AVxY34Ud2B+JmV48/5AcH/Xyv/oLV55Xofjz/AJAcH/Xyv/oLV55XxWZ/7w/RH2uW/wAD5sKKKK887wooooA6jwH/AMhyf/r2b/0Ja9DrzzwH/wAhyf8A69m/9CWvQ6+kyz/d/mz53Mv479EeJePv+R21D/tn/wCi1rmq6Xx9/wAjtqH/AGz/APRa1zVYVPjfqfKVv4kvVhRRRUGYUUUUAe3eAf8AkSdP/wC2n/oxqZ8Qv+RG1H/tl/6NSn+Af+RJ0/8A7af+jGpnxC/5EbUf+2X/AKNSvUX8H5fofR5f8dL1j+h4XRRRXCfbhRRRQAVp+G/+Rp0j/r9h/wDQxWZWn4b/AORp0j/r9h/9DFVHdGdX4JejPoivMviL/wAjBb/9eq/+hvXpteZfEX/kYLf/AK9V/wDQ3r2cN8Z8ZT3OQooor0DcKKKKACu++Gn/ADFP+2X/ALPXA133w0/5in/bL/2esa/8NkT+E76vmavpmvmavJqdCsP1CiiisjqCiiigAr6Zr5mr6ZrWn1OXEdDkfHH/AC4f9tP/AGWuRrrvHH/Lh/20/wDZa5Gu+n8KO/C/wV/XUKKKKs6AooooA6PwZ/yGJv8Ar3b/ANCWu5rhvBn/ACGJv+vdv/Qlrua5qvxHk4z+Kcdqp8G6x4YTxlrmj2k9oLMTLLe2qPKIT8ygZz13cDPVveuL0PWPh7quqWVpefDsaTFqLBdPur7So1iucjgBgMAnt1B455rP1PUNd8YeFNF+Hw8M6vZXivbQ6rPNb7YI4Y8ZdXzgglQR9CBniu4+JFq1xD4U0yysnkk/ty1kTyo8i3jjJLP0wABxz61mcp1ulaDpGhJImk6ZaWKSkGRbaFYwxHTOBzXn/jqXRvEUN9A3hPXbjX7USQWE8dhLGySKTskScfKE3YYHP4dq9QooA84ltNY8N+KdF8SahaXeqA6GumalJYxea8cquriTYPmYEl87QfXFbPgSwv4/7d1fUbJ7GXVtRa5it5SPMSEIqJvAJAYhSSO2a66igDj9X0a1s/Fnhm+ilvmmm1WXcs1/PLGM2lyTtjdyi8jjaBgcDA4rsK5/xD/yHPCf/YVk/wDSK6roKACiiigArnfEOoXE9zFoGluVvrpd0sw/5doehf6noP6cVf13WI9F04zlDLPIwjt4F+9LIeiiofD2jvpltLPeSCbU7tvNupvVuyj/AGVHArWCUVzv5f15GU25PkXz/rzL+nafbaXp8NlaRhIIV2qP5k+5PNWqKKzbbd2aJJKyCiiikMKKKKACiiigAooooAKKKKACiiigAooooAKKKKACiiigAooooAKKKKACiiigAooooAKKKKACiiigBD90/So7b/j0h/3F/lUh+6fpUdt/x6Q/7i/yoAlooooAKKKKACud8XaFda7Do6WjRKbPVrW9k8xiMxxvuYDAPOOldFRQBzr6FdN8RofEAaL7GmkvZFdx3+YZkcHGMYwp71U0TwhJBpmtWOpzOEvtYub6NrK5kicJI+5QWUqwPqAcfWutooA5f/hAdI/5+9c/8Hd3/wDHKy/Heg+Kde1DT7bTk02fQIQJbqzurh4jdSAnCuVRsxjCnHc5z2rvKKAOO1Lw/rXifw3FBqa6dpmq2V9FeWL2rNcRI0RBUsGCHn5lIHYj6VLo2g63L4pPiPxDPZLcx2Zsre0sdzRopYM7lmwSzFRxgAAdzzXWUUARTdYv+ug/kaxPGX/IDtv+wrpv/pbDW3N1i/66D+RrE8Zf8gO2/wCwrpv/AKWw0AdBRRRQAUUUUAFFFFABRRRQAUUUUAFFFFABRRRQAVk6l4isdK1nSdJnErXmqvItska5+4u5yeeAAa1q8/8AHyalpfijwz4qstLudStNM+0xXlvaJvmCSoAGVe+CvP8Ak0AZ3i+PwB4TurPT18DWmqateqzW9jY6dG7sB3bjgdecHoeODVvwlYfD3xfb3JtfB9jaXdm4jurO802OOaBiONwx0ODj6VW8FR3vir4j6r42u9Lu7GwSzSx0xL2LZI653O+O3OeemHx61qeF4ZZfij411BbWSG1YWdusrIVE7ojbiMjnbwvHFAHY3FtIulyWunSR2cghMdu/lBlhOMKdmRkDjjI6VyvgK/1qe98R6frWq/2lLp18sEc/2dIcqY1b7qj1J65+tdddyyW9nPNDbvcSxxs6QoQGkIGQoJIAJ6cnFcF4KbxDa+Ktck1HwteWdrq159oWd7iFhCBEFwwVySSVxwD1oAyx4q8VXXg64+IFrqNt/Z0Ukjx6Q1qAklqkpQkyZ3CQgbgR8vQbea9VjkWWJJEOVdQwPqDXlX/CK+KbXwXc/D+0063+wyySRw6u1yCkds8pcho8b/MAO0ADb33cc+mXOmWN7px0+8s4LqzKqrQTxq6MFIIypGDggH8KAMrw9/yHPFn/AGFY/wD0ita8Fr3LwhYWemah4ps7C0gtLWPVU2QwRiNFzZ2xOFHAyST+NeG134H7XyPPx/2fn+gUUUV3nnBRRRQAV9D+G/8AkV9I/wCvKH/0AV88V9D+G/8AkV9I/wCvKH/0AVxY34Ud2B+JmV48/wCQHB/18r/6C1eeV6H48/5AcH/Xyv8A6C1eeV8Vmf8AvD9Efa5b/A+bCiiivPO8KKKKAOo8B/8AIcn/AOvZv/Qlr0OvPPAf/Icn/wCvZv8A0Ja9Dr6TLP8Ad/mz53Mv479EeJePv+R21D/tn/6LWuarpfH3/I7ah/2z/wDRa1zVYVPjfqfKVv4kvVhRRRUGYUUUUAe3eAf+RJ0//tp/6MamfEL/AJEbUf8Atl/6NSn+Af8AkSdP/wC2n/oxqZ8Qv+RG1H/tl/6NSvUX8H5fofR5f8dL1j+h4XRRRXCfbhRRRQAVp+G/+Rp0j/r9h/8AQxWZWn4b/wCRp0j/AK/Yf/QxVR3RnV+CXoz6IrzL4i/8jBb/APXqv/ob16bXmXxF/wCRgt/+vVf/AEN69nDfGfGU9zkKKKK9A3CiiigArvvhp/zFP+2X/s9cDXffDT/mKf8AbL/2esa/8NkT+E76vmavpmvmavJqdCsP1CiiisjqCiiigAr6Zr5mr6ZrWn1OXEdDkfHH/Lh/20/9lrka67xx/wAuH/bT/wBlrka76fwo78L/AAV/XUKKKKs6AooooA6PwZ/yGJv+vdv/AEJa7muG8Gf8hib/AK92/wDQlrua5qvxHk4z+KFFFFZnKFFFFABRRRQBz/iH/kOeE/8AsKyf+kV1XQVz/iH/AJDnhP8A7Csn/pFdV0FABUdxPFa28lxPIscUalndugA6mpK5S8J8V6y2nRnOj2Mg+1sOlxKORH9B1P8Ak1cI8z12RE58q03ZJolvLrepf8JJfIyxgFNOgcf6uM9ZCP7zfyrp6QAAAAAAdAKWicuZhCHKrBRRRUFhRRRQAUUUUAFFFFABRRRQAUUUUAFFFFABRRRQAUUUUAFFFFABRRRQAUUUUAFFFFABRRRQAUUUUAFFFFACH7p+lV0nhtdOjmuJY4olRdzyMFUdByTVg/dP0qO2/wCPSH/cX+VAFT+3tH/6C1j/AOBCf40f29o//QWsf/AhP8a0KKq8ew9DP/t7R/8AoLWP/gQn+NH9vaP/ANBax/8AAhP8a0KKLx7BoFc74y8Ut4S0q1vV0+S/ae8itBDHIEYlzjIyME+xxn1FdFXO+LtCutdh0dLRolNnq1reyeYxGY433MBgHnHSpEYi+OPEQ15vDsnhOIa01ut3Ei6iGg8gkqzNJsBBVsDAU5J7DmtjTPGMV74YbV59NvUmhuHtbmytomuZYpUcoy4QZYZGc46HNPfQrpviND4gDRfY00l7IruO/wAwzI4OMYxhT3qponhCSDTNasdTmcJfaxc30bWVzJE4SR9ygspVgfUA4+tADv8AhPrL/oB+Jv8AwSXP/wART/FeqXTm08O6RM0WraoDiVRzaW4x5kx9CMhVz1Zh6Gj/AIQHSP8An71z/wAHd3/8cqxqngzSNW1Uancfbo7zyFtzLbX80BMakkA7GGeWJ5oA860DxLrR+DHhIrqd0dT1nVF05r+RvNlRWuJNzZfOSEQgZ6cV1ekreeGviBD4f/ta9v8ATL7T5LqJb+XzpYpo3UNiQjJVg2cE8EHGM4rJ0H4W3Vh8OLDRpr5Idas7xL6OcO88Ec0crOm1GIwCpwdoHJJ579Jo2g63L4pPiPxDPZLcx2Zsre0sdzRopYM7lmwSzFRxgAAdzzQB083WL/roP5GsTxl/yA7b/sK6b/6Ww1tzdYv+ug/kaxPGX/IDtv8AsK6b/wClsNAHQUUUUAFFFFABRRRQAUUUUAFFFFABRRRQAUUUUAFFFFABRRRQAUUUUAFFFFAHP+Hv+Q54s/7Csf8A6RWteC1714e/5Dniz/sKx/8ApFa14LXfgftfI8/H/Z+f6BRRRXeecFFFFABX0P4b/wCRX0j/AK8of/QBXzxX0P4b/wCRX0j/AK8of/QBXFjfhR3YH4mZXjz/AJAcH/Xyv/oLV55Xofjz/kBwf9fK/wDoLV55XxWZ/wC8P0R9rlv8D5sKKKK887wooooA6jwH/wAhyf8A69m/9CWvQ6888B/8hyf/AK9m/wDQlr0OvpMs/wB3+bPncy/jv0R4l4+/5HbUP+2f/ota5qul8ff8jtqH/bP/ANFrXNVhU+N+p8pW/iS9WFFFFQZhRRRQB7d4B/5EnT/+2n/oxqZ8Qv8AkRtR/wC2X/o1Kf4B/wCRJ0//ALaf+jGpnxC/5EbUf+2X/o1K9Rfwfl+h9Hl/x0vWP6HhdFFFcJ9uFFFFABWn4b/5GnSP+v2H/wBDFZlafhv/AJGnSP8Ar9h/9DFVHdGdX4JejPoivMviL/yMFv8A9eq/+hvXpteZfEX/AJGC3/69V/8AQ3r2cN8Z8ZT3OQooor0DcKKKKACu++Gn/MU/7Zf+z1wNd98NP+Yp/wBsv/Z6xr/w2RP4Tvq+Zq+ma+Zq8mp0Kw/UKKKKyOoKKKKACvpmvmavpmtafU5cR0OR8cf8uH/bT/2WuRrrvHH/AC4f9tP/AGWuRrvp/Cjvwv8ABX9dQoooqzoCiiigDo/Bn/IYm/692/8AQlrua4bwZ/yGJv8Ar3b/ANCWu5rmq/EeTjP4oUUUVmcoUUUUAFFFFAHP+If+Q54T/wCwrJ/6RXVdBXL+L7+z0zUPC13f3cFpbR6q++aeQRoubO5AyxOByQPxqx/wnfg//oa9D/8ABjD/APFUAb0sYlieMlgHUqSpwRn0I6Gq2mabbaTp8VlaJthiGBnkk9yT3JrK/wCE78H/APQ16H/4MYf/AIqj/hO/B/8A0Neh/wDgxh/+Kp3drCsr3Ogorn/+E78H/wDQ16H/AODGH/4qj/hO/B//AENeh/8Agxh/+KpDOgorn/8AhO/B/wD0Neh/+DGH/wCKo/4Tvwf/ANDXof8A4MYf/iqAOgorn/8AhO/B/wD0Neh/+DGH/wCKo/4Tvwf/ANDXof8A4MYf/iqAOgorn/8AhO/B/wD0Neh/+DGH/wCKo/4Tvwf/ANDXof8A4MYf/iqAOgorn/8AhO/B/wD0Neh/+DGH/wCKo/4Tvwf/ANDXof8A4MYf/iqAOgorn/8AhO/B/wD0Neh/+DGH/wCKo/4Tvwf/ANDXof8A4MYf/iqAOgorn/8AhO/B/wD0Neh/+DGH/wCKo/4Tvwf/ANDXof8A4MYf/iqAOgorn/8AhO/B/wD0Neh/+DGH/wCKo/4Tvwf/ANDXof8A4MYf/iqAOgorn/8AhO/B/wD0Neh/+DGH/wCKo/4Tvwf/ANDXof8A4MYf/iqAOgorn/8AhO/B/wD0Neh/+DGH/wCKo/4Tvwf/ANDXof8A4MYf/iqAOgorn/8AhO/B/wD0Neh/+DGH/wCKo/4Tvwf/ANDXof8A4MYf/iqAOgorn/8AhO/B/wD0Neh/+DGH/wCKo/4Tvwf/ANDXof8A4MYf/iqAOgorn/8AhO/B/wD0Neh/+DGH/wCKo/4Tvwf/ANDXof8A4MYf/iqAOgorn/8AhO/B/wD0Neh/+DGH/wCKo/4Tvwf/ANDXof8A4MYf/iqAOgorn/8AhO/B/wD0Neh/+DGH/wCKo/4Tvwf/ANDXof8A4MYf/iqAOgorn/8AhO/B/wD0Neh/+DGH/wCKo/4Tvwf/ANDXof8A4MYf/iqAOgorn/8AhO/B/wD0Neh/+DGH/wCKo/4Tvwf/ANDXof8A4MYf/iqAOgPINVYLiKOCNJHCOqhSG4PFZP8Awnfg/wD6GvQ//BjD/wDFUf8ACd+D/wDoa9D/APBjD/8AFUAbX2u3/wCe8f8A30KPtdv/AM94/wDvoVi/8J34P/6GvQ//AAYw/wDxVH/Cd+D/APoa9D/8GMP/AMVQBtfa7f8A57x/99Cj7Xb/APPeP/voVi/8J34P/wChr0P/AMGMP/xVH/Cd+D/+hr0P/wAGMP8A8VQBtfa7f/nvH/30KPtdv/z3j/76FYv/AAnfg/8A6GvQ/wDwYw//ABVH/Cd+D/8Aoa9D/wDBjD/8VQBtfa7f/nvH/wB9Cj7Xb/8APeP/AL6FYv8Awnfg/wD6GvQ//BjD/wDFUf8ACd+D/wDoa9D/APBjD/8AFUAbX2u3/wCe8f8A30KPtdv/AM94/wDvoVi/8J34P/6GvQ//AAYw/wDxVH/Cd+D/APoa9D/8GMP/AMVQBtfa7f8A57x/99Cj7Xb/APPeP/voVi/8J34P/wChr0P/AMGMP/xVH/Cd+D/+hr0P/wAGMP8A8VQBrtMk0kSxMHw2SV5AGD3rI8Zf8gO2/wCwrpv/AKWw0f8ACd+D/wDoa9D/APBjD/8AFVj+JPFnhvU9Ps7Ow8QaVd3Umq6dshgvY5HbF5CThQcnABP4UAdxRRRQAUUUUAFFFFABRRRQAUUUUAFFFFABRRRQAUUUUAFFFFABRRRQAUV45Hf65ffDq4+I8Wv6hFqCtLcwWZdfsot0lZRE0WMHKD733s454r1efVLG00sale3cFrZ7Fdpp5BGihsAZZsAZJA59aAMvw9/yHPFn/YVj/wDSK1rwWvXtC8aeFYdY8TvL4l0ZEm1NHiZr+IB1+yW65X5uRuVhkdwR2rxT+19M/wCgjaf9/wBf8a7sE0ua/kcGOTfLbz/Qu0VS/tfTP+gjaf8Af9f8aP7X0z/oI2n/AH/X/Gu7nj3PP5Jdi7RVL+19M/6CNp/3/X/Gj+19M/6CNp/3/X/Gjnj3Dkl2LtfQ/hv/AJFfSP8Aryh/9AFfNf8Aa+mf9BG0/wC/6/417toHjfwnD4c0uKXxRoqSJaRKyNfxAqQgyCN3BrjxjTirHdgotSd0WfHn/IDg/wCvlf8A0Fq88rqPGnjLwvdaPClv4k0eZxcKSsd9ExA2tzw1cL/wkWh/9BnT/wDwKT/GvjcyhJ120uiPsMunFULN9TSorN/4SLQ/+gzp/wD4FJ/jR/wkWh/9BnT/APwKT/GuD2U+zO/2kO6NKis3/hItD/6DOn/+BSf40f8ACRaH/wBBnT//AAKT/Gj2U+zD2kO6O68B/wDIcn/69m/9CWvQ68l8F+LPDlrrEz3HiDSoUNuwDSXkagncvHJruv8AhO/B/wD0Neh/+DGH/wCKr6LLU1Qs+7Pn8xade67HmXj7/kdtQ/7Z/wDota5qtLxv4i0S78X309trGnzQt5e2SO6RlOI1HBB9a5/+2dL/AOglZ/8Af9f8axqRfO9Op8vVjL2ktOrL1FUf7Z0v/oJWf/f9f8aP7Z0v/oJWf/f9f8ajll2M+SXYvUVR/tnS/wDoJWf/AH/X/Gj+2dL/AOglZ/8Af9f8aOWXYOSXY988A/8AIk6f/wBtP/RjUz4hf8iNqP8A2y/9GpWN4I8Z+FrTwhYwXPiXR4Zl8zdHJfRKwzIx5Bb0pvjrxl4Xu/Bt/BbeJNHmmby9scV9EzHEik4Ab0r01/C+X6H0OA0nSv3X6Hk1FUv7X0z/AKCNp/3/AF/xo/tfTP8AoI2n/f8AX/GuLlfY+z9rT/mX3l2iqX9r6Z/0EbT/AL/r/jR/a+mf9BG0/wC/6/40cr7B7Wn/ADL7y7Wn4b/5GnSP+v2H/wBDFc//AGvpn/QRtP8Av+v+NaOga5pMPiPS5ZdUso40u4mZ2uEAUBxkk54FOMXdaEVasOR+8tj6XrzL4i/8jBb/APXqv/ob11v/AAnfg/8A6GvQ/wDwYw//ABVed+PfFPh681yCS117S50FsqloryNgDubjIPvXsYd2mfHw3Meis/8At7R/+gtYf+BKf40f29o//QWsP/AlP8a7+Zdza6NCis/+3tH/AOgtYf8AgSn+NH9vaP8A9Baw/wDAlP8AGjmXcLo0K774af8AMU/7Zf8As9eY/wBvaP8A9Baw/wDAlP8AGu2+Hvi3w3Zf2j9q8QaVBv8AK2+bexruxvzjJ9xWNeSdNkzfunq1fM1e8/8ACd+D/wDoa9D/APBjD/8AFV88/wBsaZ/0EbT/AL/r/jXlVOhWHaVy7RVL+2NM/wCgjaf9/wBf8aP7Y0z/AKCNp/3/AF/xrOzOnmXcu0VS/tjTP+gjaf8Af9f8aP7Y0z/oI2n/AH/X/GizDmXcu19M18s/2xpn/QRtP+/6/wCNfQ3/AAnfg/8A6GvQ/wDwYw//ABVaU+pzYhp2KPjj/lw/7af+y1yNanjHxh4YuvsX2fxHpEu3fu8u+ibH3euGrl/+Em0H/oN6b/4Fx/413U2uVHdhZJUld/1c1KKy/wDhJtB/6Dem/wDgXH/jR/wk2g/9BvTf/AuP/GtLo3549zUorL/4SbQf+g3pv/gXH/jR/wAJNoP/AEG9N/8AAuP/ABoug549zt/Bn/IYm/692/8AQlrua8t8JeLvDVtqsrz+IdJiUwEBpL2NRncvHLV2X/Cd+D/+hr0P/wAGMP8A8VXNV+I8rFtOpodBRRRWZzBRRRQAUUUUAFY/iOTSBZW8WsalBYxNdwSxNLMke+SKVJVUbuuSgyOuM9OtbFeeaZp9nrnxW8ZDV7K3uxaW1lbWy3EQcLDJG7PjPGGYkH6UAeh0VxnwsYjwLBbhmaG1urm3gZn3ZiSZ1QZ9AAB+FdnQAUUUUAFYXiq90FdHutK13WLTTYdSt5bfM9zHCzKy7WKb+pAb0PUVu1yHirQNb1DX9M1XRho7taW08Lx6mjureY0ZGAvQ/uyM9s9DQB09jqFlqlol3p93b3ds+dk1vIJEbBwcMCQeQRViud8F68uvaPcFrKKxurG8msru2hbckcsbYO04GQQQ3TvXRUAFFFFABVCHXNIuNSfTYNUspb9AS9qlwjSqB1ygORj6Vfrz6fTLDTvjNozWVlbWzXGm3ksxhiVDI5eMlmwOTyeTQB1KSaR4UshFd6lBaxXF3NKjXcyJukmlaVlGcZ5c4HXGOvWtivPNM0+z1z4reMhq9lb3YtLaytrZbiIOFhkjdnxnjDMSD9K0PhYxHgWC3DM0NrdXNvAzPuzEkzqgz6AAD8KAOzooooAKoSa5pEOpppkmqWSahJ9y1a4QStxnhM5PHPSr9efeMdMsLfxx4OvobK2jvLjVWE1wkSiSTEDgbmAycYHX0oA6i+l0fQdSn1vU9Tt7E3cMNoWu50ijPlmV1ClsfMfNfPPQD0NXdN1fTNZgafS9RtL6FG2NJazrKobAOCVJGcEce9YnjHQtT1oaRLpTacJ7G9NwRqCM8TAxSJ91eSfnB6jp1png7XJr261jRr/T7Ox1XSpo1uEsmLRSLIgZJFyoIzyMHJG3rQB1VFFFABWbqniHRdEaNdV1exsWl+4Lm4SMt9NxGa0qwfEtzoWjWcms6tZwTSKggjHkrJNMSflhjB5JY9F/PpQBdNtZXWoWmurchhBazQxujqYmjkaNmYn28pcHOOT+E2n6pp+r2xudNvra8gDFDJbyrIu4dRkEjNeTX+iXmk+AfDukanbpDb6t4nhN1YL80dvBLK0gg44wCFB7ZJrqEsbTSPjFZppttFbLe6NKbqOABFby5EEbFR1I3Fc+nHagDvKKKKACqOp6zpeiQLPquo2ljEx2q9zMsYY+gyeTV6szWzo1paHVdaS0WCxVnE9wgbygeDjI4J4HHJ6UAJOmm+JdKheG9jnsxPBcpPbSqysYpVlX5hkYygz7Z6VHZeLfDepXcdpY+IdJurmTOyGC9jd2wMnCg5PAJrA8A6Xcx22uaq9idMttZuvtNrpzKFMKbAodlHCu+NxHbisfRTrHgAeGtL16x0OayuJYtMivbEOssUpRgm8MPn3Fcbht69PUA9PooooAKiubmCztpLm6njggiUvJLK4VUUdSSeAKlpk0MVxC0M8SSxOMMjqGUj3BoAxGv/D/AI00bUdKsdZtLyK5tpLec2VyjuiupUnjODzxkVpNq2mrqi6W2oWo1Bk3ramZfNK+oXOcV51D9tj+L2iy6zpNvo262uYbFrFxIt6cAssrDaV2qAyqV6554rn7bTbG8/Z+vtfurWEay73GoPebAsy3K3D7SG6gjAX6cd6APcaKitneW1hkkXa7IrMvoSOaloAKRmCqWYgKBkk9BS0jKrqVZQysMEEZBFAGVpvijw/rFybbTNc029nAJ8u3ukkbHrgHOKqLqnhvwkrade69YWkkk0135d7dxxv++leQkAkfLuZgPYd643xRFc23jbww19otrpej2+qKlrqNiweSR2DLHE4AUxo2Tn7w4A4zW5rugeIv+Esudc0i30O7hksoYGt9QV97GN5GIRgMJkSdSDyOg60Adnb3EF3bRXNtNHNBKoeOWNgyup5BBHBB9akrF8I69b+JvCem6xawiCK5iz5IOREwJVkzgZwwIzgdK2qACiiigCpqGqafpFr9p1K+trK33BfNuZljTJ6DLEDNVH/szw5/aep3l9Haw3tytxNJdSqiIwijiABOMDEa9c8k/SvFPix4g0rxPo/iMzalao2kypZ6dp5nUSyTCZBPOUzngbkX2DnvXdyS6d4m+MGm7za6hpkGgSXdk2BLGZWnCM6nkEhQB+NAHocUsc8KTQyLJE6hkdDkMD0II6in1w/w7hisLrxXplpGI7C01lxbxqRsiDRo7Io7AMxOOgzXcUAFFFFABRRRQAUUUUAFFFFABRRRQAUUUUAFFFFABRRRQAUUUUAFFFFAHmr+ANfTQLnwfa6jYReGriZ3E4jYXUULyGRoQv3TknG8noT8vSvSVUIgVRhQMAUtFABRRWT4puriy8I61d2mftMFhPJDjrvWNiv6gUAWoNW0251CfT4NQtZb2AZmt0mVpIx6soOR+NXK8fm0fTNL+G3gTVNPtII9QiudOkjuIlCSSNKUEgLdTvDHIP8ASus+LVzPafC3XZLdirtEkTMBnCPIqOf++WagDc8Ny6PDpMGkaRqUF7HpUMdo2ydJHTYoUB9vRsD0HerMmuaRDqaaZJqlkmoSfctWuEErcZ4TOTxz0rjNa0fTdA8beB5dIsYLSRpprJhbqE8yDyWba2PvAFQ3Pf60vjHTLC38ceDr6Gyto7y41VhNcJEokkxA4G5gMnGB19KAPQaKKKACiiigCndatptleW9nd6hawXNycQQyzKryn0UE5P4UXumw313p1xIzh7C4NxEFIwzGKSLDcdMSMeMcgV5to2jaZ4hsPiJda1ZW9xcPqt3atLLGNyQxRoIwGPTAwwI7nPau08B3Vxe/D/w/c3TM08mnwl2Y5LHYOSffr+NAGlDrmkXGpPpsGqWUt+gJe1S4RpVA65QHIx9Kv159Pplhp3xm0ZrKytrZrjTbyWYwxKhkcvGSzYHJ5PJr0GgAooooAKR3WNGd2CqoyWJwAKWuF+KI8/S/D+nyqHsr/X7O2u0IyHiLFtp9iyqPxoA6/T9U0/V7Y3Om31teQBihkt5VkXcOoyCRmqsS6b4W0mZ7m+jtrP7RNcPPdyqiq00zSEFjgAbpCB+HU1zCWNppHxis0022itlvdGlN1HAAit5ciCNio6kbiufTjtW74y0a917w61lp7Wq3IubedPtYJiPlypIQwHJBC4x/KgC/pmvaNrRlGlatYX5ix5gtblJdmc4ztJxnB/KtCuN8M6xeweKLvwzrOn6Zbaklol7FPp24R3MJdkJ2sMqVOOCT96uyoAKKKKACqF7rmkabcw21/qllazzECKKe4RGck4G0E5PPpV+vPvipplg2kWWpGytjfrqVlELoxL5oTz1+UNjOOTx70Adrqemw6raJbzs6olxBcAoQDuilWVRyOhKAH2z0o1DVtN0lI31HULWzWVwkZuJljDt6DJ5NXK880zT7PXPit4yGr2Vvdi0trK2tluIg4WGSN2fGeMMxIP0oA9DorjPhYxHgWC3DM0NrdXNvAzPuzEkzqgz6AAD8K7OgAooooAR3WNGd2CqoyWJwAPWszTfEuhaxO8Gmazp97MnLR21ykjAeuAa0ZoY7iGSGZFkikUo6MMhgRggivPby0stb8faNZ+HrGCGPw9OZb7UII1RI/kZRaqR1JDZYDhRjucUAdzHpsMWs3WqBn864t4bd1JG0LG0jKRxnOZWzz2H4ljq2m6m86WGoWt09u+yZYJlcxt6Ng8H61y/xauZ7T4W67JbsVdokiZgM4R5FRz/3yzVR1rR9N0Dxt4Hl0ixgtJGmmsmFuoTzIPJZtrY+8AVDc9/rQB6FRRRQAUUUUAZ+p69o2imIarq1hYGXPli6uUi34xnG4jOMj86sWOoWWqWiXen3dvd2z52TW8gkRsHBwwJB5BFcx4q0DW9Q1/TNV0YaO7WltPC8epo7q3mNGRgL0P7sjPbPQ1d8F68uvaPcFrKKxurG8msru2hbckcsbYO04GQQQ3TvQBcg/szwj4bs7a5vo7awsLeO2We7lVPlVQq7mOBk4rTiljnhSaGRZInUMjochgehBHUVwmoW0OqfGyytNQt47i1tNBkuraOVNyiZpwjMM8ZChR+NTfDuGKwuvFemWkYjsLTWXFvGpGyINGjsijsAzE46DNAHcUUUUAFUdS1nS9GjSTVNSs7FHOFa6nWIN9CxGavVxXxV0ywu/h9rV3c2VtNc21lKYJpIlZ4sgZ2kjK5wOnpQB2Xmx+T53mJ5W3dv3DbjrnPpWXZtpWt6jba7p+oRXn2aGe0VraZZIz5jRs2SM8gxL37n2rkfHg8/wp4S0+VQ9nf6vp9tdoRkPEfm2n2LKo/GrKWNppHxis0022itlvdGlN1HAAit5ciCNio6kbiufTjtQB3busaM7sFVRksTgAVV0/VNP1e2Nzpt9bXkAYoZLeVZF3DqMgkZrkPiiPP0vw/p8qh7K/1+ztrtCMh4ixbafYsqj8aaljaaR8YrNNNtorZb3RpTdRwAIreXIgjYqOpG4rn047UAd5RRRQAUUUUAFFFFABRRRQAVzus+DrPV9U/tOK+1HTb9ohBLPYXHlmaIZ+RgQR3OGADDsRXRUUAUtH0ix0HSbbS9Mt1t7O2XbFGCTgZyeTySSSST61doooAKKKKACsPWvD1zq12k8HiHVtMAj8to7N49jjOc4dGw3PUVuUUAZuhaFZeHdLXT7ASeUHeRnlcu8jsxZmZjySSa0qK4T4i/Elfh9PpCPpL38d+ZS7JNsaJY9hJA2ndw5PUdOvoAd3RXNeLfGEPhrwLceKbaBdQgjSKSNFl2CVZHVQQ2Djh89K6ONt8avjG4A4oAdXFX/wAPXv8AxF/bf/CV67Ddr5iw+U0O2FHOSigxnjgdcngc12tISACSQAOpNAHPaz4Os9X1T+04r7UdNv2iEEs9hceWZohn5GBBHc4YAMOxFauj6RY6DpNtpemW629nbLtijBJwM5PJ5JJJJJ9auFlC7iRt65zWX4m1WTQ/C2q6tDGkktnaSzoj/dYqpIBx24oA1aKzPDuqPrPhrSdTmVI5r2yhuWjU8KXQMQM9hmtOgArkPEHgM+INag1OTxJrFq1tIJbaG3aIJA+zaSuUJ5GepPU11ysrZ2sDjg4NLQBh6h4fur2ysIYvEOrWc1omxriBo90/ABMgZCpPGeAOSak8P+G7Pw7Fci3mubm4u5fOubq7k3yzPtC5JwB0AwAAB2Fa6srDKkEHuDQWCgliAB3NAC0UgIIBBBB6EVxfhvxVr/inVZLmy0zT4fDsN3NbG4kuWaeYISA6KFAAJA4J9aAO1rk/EvgSLxJr9hrDa1qllcWCFbdLZo9iMc5cK6N8xBxn0ArT8SalrWmWEU2h6B/bVw0oV4PtiW2xME7tzjB5AGPeuGT4m+MJPEknh5fhznVY7b7U0H9tw8Rbgu7ds29SOM5oA7D/AIRCC78Pz6PrOo3+rRSyiUTXMipLGRtK7WjC4wVyD1yT24p2h+EbPRdQm1Jru+1HU5YhA17fS75BEDkRjAAC554GSeTk1c0O/wBSvtIS51rSRpF2WIa1N0s+0Z4O9eDmtJpETG91XPTJxQA6iqmqS3kGk3kunW63F8kDtbwuwUSSBSVUkkYBOBnIpNJlvp9Is5tTtktr94Ua4gRgyxyEfMoIJyAcjqaALlcx4w8FweMRp4udTv7NbGbz0S1ZNrvxtZgysDtwcfU10ysrZ2sDjg4NBIAJJAA6k0AYmmeHrqwtb2C48Ratf/aU2LJcNGHg4IyhRFwee+egqlZ+CIo9Ts9Q1LW9W1eWxbfapeypsibaV3bURQzYJ5bNber6pFpGhX+rOplhsraS4ZYyMsEUsQPfik0TVY9c0Kw1aGN44r23SdEfGVDKCAcd+aAL9FJvXdt3Dd1xnmloAKpatp51XTJbNb27smkKkXFnIElQhg3BII5xggg5BIqt4ju9XtNBu5vD9jDqGqx7PKtZJAitlgGySQBhdx69q1VJ2AuMHHI9KAOb03wbDZ61FrF9quo6tfwRvFBJeum2ANjdsVFUAkAAnGTVSf4baJPcSh5tQ/s2e4+1TaULk/ZZJt27cV643c7QQpIHHFderK4yrAj1BpGdVIDMAT0BPWgB1FFc34p8SzaNe6Lpenwxz6nq115MKSE7UjUbpZDjkhV7epFAHSVBe2322xuLXzpoPOiaPzYH2SJkY3K3ZhnIPrU9ICG6EHtxQBytv4Gi/tGxvNU1zV9XNhJ5ttFeyR+XG4BAcqiLuYZOCc4qxq3hWbVb6aYeJdbtLecKslpayxrHgDHykoWXPfBFNg8Szp8QLnwzfQRxpJaLeafMmf3qg7ZFbP8AEDgjHbmuloAp6VplpoulWumWEXlWtrGsUSZzhQO57n3q5RRQAUUUUAYnirwtY+LfDt3ot40kMN1s3yQbQ42urjBII6qO1N1zwrZa3Pa3YuLuw1C0DLb3llLskRWxuXBBVlOBwwNbtFAGXoPh+w8N6e1np6SbZJWnmllkLyTSt953Y8lj3NalFFABRRRQAUUUUAFFFFABRRRQAUUUUAFFFFABRRRQAUUUUAFFFFABRRRQAUUUUAFNdFkRkdQyMCGUjIIp1FAHI2Hw50awu7NxcajPZ2EomsNPuLkvBayDoyA8kjnG4kDJxitiTw9a3UesQX0txeWuqnEtvPISka7AhVMYKg4zx3JNa1FAHMaR4G0/StUt9RkvNR1C4tEaKyN9ceYLRG4ZU4HUcbmy2ABmq/iDwGfEGtQanJ4k1i1a2kEttDbtEEgfZtJXKE8jPUnqa6+igCG0ga2s4IHnkuHijVGmlxvkIGNzYAGT1OAKmoooAKKKKAOU1X4f6Vql/eXP2vUbSPUMDULa1uSkV4MBfnHUcAAlSpIyDnNbKaLDDe6fNbTT28Fjbtbx2kT4hZTtA3L3KhMD0ya0qKAOKv8A4evf+Iv7b/4SvXYbtfMWHymh2wo5yUUGM8cDrk8Dmu1oooAKKKztcvNSsNImudJ0r+1L1Svl2n2hYN+SAfnbgYGT74oA0az9b0Sx8Q6XJp2oxNJbuVb5HKMrKQysrAggggHIrz26+JvjCy12w0S4+HOzUb9Xa2h/tuE+YEBZvmCYGAD1IrtvDmq61qNnNLr/AIfGhypJtjiN8lxvXH3tygAc8YoAj0PwjZ6LqE2pNd32o6nLEIGvb6XfIIgciMYAAXPPAyTycmnTeGpX0t7OHXtWt5Gu3uhcxzKZF3MT5fzKQUG7AUjoB6VvUhYAgEjJ6D1oAwtC8K22iX11qDXt7qGo3SLHLd3sgZyikkKoUBVXLHgAVvUmRnGRnriloAKKQMCSAQSOvtQSFBJIAHc0ALXLeLPBS+LXiE+uapZ28exhb2rRhC6MWVzuQnOcd8cDiuoBDAEEEHuKCyrjcQMnAyetAGPFoMqWulxTazqU8lhOZzM8iq1xkMNsm1QCo39AB91araz4Os9X1T+04r7UdNv2iEEs9hceWZohn5GBBHc4YAMOxFdAZEVgpdQx6Ank1jeLvEtv4Q8L3mu3UEs8Nrs3RxY3Hc6oMZ46tQBe0fSLHQdJttL0y3W3s7ZdsUYJOBnJ5PJJJJJPrV2mo29FcdGANOoAKKKQMpJAIJHUZ6UAQ31sb3T7m1W4mt2miaMTQth48gjcp7EZyPeuP8PfDo+GktoNP8Ua2LOCbzTbMYdkh3bmDHy8nPfnPvXbKytnawOODg0tAGTJ4etbqPWIL6W4vLXVTiW3nkJSNdgQqmMFQcZ47kms7SPA2n6VqlvqMl5qOoXFojRWRvrjzBaI3DKnA6jjc2WwAM0/U/Es0PjbSfDNhDHLPcRPd3juT+4t1+UEAdSz4UenNUvHPi3VvBqwaqukx3ugoVW+lSXbPBlsbgp4Ycjj1PYc0AdjRVW5lnk0yWbTTDLO0Je3MhPlu2MrkjseORWZ4O8SJ4r8L2erCIwTSApcQHrFKp2uv4EHHtigDdooooAw9a8PXOrXaTweIdW0wCPy2js3j2OM5zh0bDc9RRaeFbLTvC9xoVhPd20U6y7rlJiZ98hJaTeed+TnP0rcooAwNY8JWertY3Bu7601GxQpBf2s22VVONwOQVYHaMhgfwq3oPh+w8N6e1np6SbZJWnmllkLyTSt953Y8lj3NalFABRRRQAVz3i3wqPFuniwl1fULG1ZHSaO0KATq2OG3KemO2OproaKAOaj8GWsvhmTQtVv7/VbdpFdJbmQLLFt27NjRhcbSuQeuSe1S6H4Rs9F1CbUmu77UdTliEDXt9LvkEQORGMAALnngZJ5OTXQUUAYM/hOxvtEutJ1Ga7vbee5a53yzkSRMX3qEYYKhTjbjoBim6H4Rs9F1CbUmu77UdTliEDXt9LvkEQORGMAALnngZJ5OTXQUUAFFFFABRRRQAUUUUAFFFFABRRRQAUUUUAFFFFABRRRQAV5t49toL34ofD61uYllgmGpRyRsMhlMCgg/hXpNc5rfhZtX8X+G9dF2IhoxuCYfL3ed5qBeuflxjPQ5oA8c8TXE/h74a+Mfh/fuzPppgudMkc5M1m9zHj6lScH64HSu+8Sf8le+HH/AFyv/wD0QKtfEv4Y2/xCgsmW9Fhe2xK+f5Xmb4zyUIyO4BBzxz61qeLPBreITpd5ZanJpmr6UzPZ3iRiQLuADBkPDAgCgDF8Vkf8Lo+HoyMhNQOP+2Fc/YeENO8WfGHx1HrCvcafbtZMbTzWRJJDD8rNtIztAfH+9XQ2Pw61UeOtJ8Waz4nbUb2xWZGjFmsUZRkZVVAD8uC7Ek5J46YroNE8LNpHi/xJrpuxKNZNuRD5e3yfKQr1z82c56DFAHm/hDwLp+qeJPFHh3VJLi88OaNeL9g097hwkbSKWOcEE7RgDJPVj1JJn00yWfw1+JOhedLLa6VLeQWnmuWMcPlZVMkk4WvQ9B8MtoviDxDqhuxMNXuI5hGI9vlbV24zk5/Ss1PAbLpnjGz/ALRH/FRSyyBvJ/1G9NuMbvmx17UAcNo/w60m4+Elvr73E48QDSxdQaoLt0aApGfLUEHCqq4UgDtUXiXxXqus/DvwLaSfbGfXpVjv/sjBJrhEwGRSSAC+fUenQ4rorP4Xa5a6BH4ZHja4Hh5ohHPbpZIJiCv7xFlJO1GYscEHAwOec9JrvgHTNY8LWOiW7y2H9mmOTT7mHl7eSMYVuevv6+x5oA88h8PTaR4j0G/8G+CNc0SSG7SO/M0yGKe1PDhh5rZI6jj36gVf8R+G7fxV8el06+kl+wf8I+JLqGORk89BOcISpBxuKt/wGur0/wAPeN47u0/tHxvFPawSq8iw6WkclyoOdrNuIUHodo6Vor4WZfiO/iz7WNraV/Z32by+f9aJN+7PtjGPxoA1dH0fT9A0uHTNLtltrOHd5cSkkLuYsepJ6kmvNdW0uDx58ZL3Q9cZ5dG0awjmjsRKyLNM5B8wgHkAMR+Xqc+sVxniXwRd6j4jt/Evh/Wm0fWoofs0khgE0dxDnOx1JHfHPt7AgA5fQNCstD+JmteBIQ03hrUNIF99hkkZ1gbzAjKCTkA5JPf7vpT/AILeFdDh0BNcj0+NdTS6uYVuMtuCByoHXHTiup8JeCJNB1a/13VtWk1jXb5Vjlu3hWJUjXoiIPujgZ552jgVe8F+GW8JeH/7La7F0ftEs3mCPZ99i2MZPTNAHQ15pZ/8nH6h/wBi4P8A0clel1zEPhJoviVceLvtoKzaaLD7L5fI+dW3bs/7OMY79aAPOfAfgPSPFepeLrzXopL22h8QXcdvatM6xxuSN74UjLEFBk/3a0/FFl4Z1vxnrFrD4JvfEurxRxC9lFyIooMoAiKzOAp2jPyj8euO38IeFm8LR6yjXYuf7R1WfUQRHs8vzNvydTnG3rx16Vj3vgXW7fX9V1Lwz4p/shNVZZLqCSxS4CyAY3pkjBPfPr7DABx3hS6vP+FTfELSLpZY49LF9b28Eswla2j8kkRbwSG2nIzn/CofEWqXkXwx+HehWwu/J1eO3iuls2CyyxLGm6JSSAC27HUdMcgkVraloFh8NPh14vgvNbNy+trOLfz1xLJLJEVC8feYnkkAV0C+BY9d+Gfh7SL6aWy1HT7a2lt7qH79tcIgwRnrg8EfyOCADjYfD02keI9Bv/BvgjXNEkhu0jvzNMhintTw4Yea2SOo49+oFa2sadF49+MN34d1p5H0TR7COdbFZWRZ5nKne2OSAGx1449TnpNP8PeN47u0/tHxvFPawSq8iw6WkclyoOdrNuIUHodo6U7xP4HudV1+38RaDrUmi63DD9necQLMk0Oc7HQ4zz3/AE6YAM/xR4E8NaP8OPFUVhpaQQyWUt0Yg7lBLHGxRwCeCCB044rm7PSdL8GfBT/hLdF05LfXJdFiDXaFi+6QIC3JxwSG6dq9F03Q9Wk07UrTxNrEWqpfIYvLitBAkUZUqygZJbOepNY2h+A9TsNIn8P6v4jGreHntHtI7R7JYpI1OAv7wMSdq5A4689qAON1L4ZaLpnwubxHazTx+JLaxGo/2sl05d5ggdsHOMNyBxnn1qf4gXN54l8B/Du589rW+1LU7B/Oi+UxySRn5l9ME5Fah+FviC40dPDd545uJPDSYQWyWSLO0II2xmXPQYHOOfTGAOp8ReDYtZg8OW9pOllb6JqNveRxLFuDJECBGORt4wM84x0oA4n4j+DNB8IfB3xIui2X2drgWvnu0ru0pW4QgsWJ5+Zvz+lN+JV7NqXjDw14Vms7+90qW2e7u7KxkCPd4BCoSWX5VK5Iz+oBHf8Ajjwy3jHwdf6Ct2LQ3Xl/vjHv27ZFfpkZztx171V8V+Ch4iOm3tnqUul61phJs7+KMPtyMMrIeGUjt/TIIBxXhzRrzRviHplz4b8Kaxomi3EckWqw3MiGJjt/duFEjYYEYJ9Pqax5dM0jRdR1RviT4T1G9a6u5X/t1Q08AhLZX7jZhAHQAZr03R9E8XQapbXOs+LYry1gDBrW305IRMSCAXbJPGc4GBmsq58GeM9Q0qfR7/xzFPp9xG0U0n9lIs7xsMFNwbbyCRuxmgDtdLa0fSbNtPkElkYENu4YsGj2jacnk8Y5rhrxjP8AtBadFMAI7bQJJoM93aUq2P8AgNdzpem2+j6TZ6ZaKVtrSFIYgTk7VGBk9zxXJeMdOvLTxb4b8V2FrNc/Y5Ws72GCMu5t5eN+ByQjYJA9c9jQBhfErSv7c+J3gPTWuJYI5xeiVoXKMYxGpdcjkblBXjs1MPh+x8BfFjwpbeHVks9P1mK6hu7NZXaNzFGGV8MT82SOfb3Oe11fws2qeNfDviEXYjGji5Bg8vPm+bHs+9njHXoc0a34WbV/F/hvXRdiIaMbgmHy93neagXrn5cYz0OaAOf8dfufiR8PbqL5rgXd1CEB6xvEA7fgP516HXCy6de698Xre+ntJodM8O2jC3lkjKi4uJxhihPDKqDBx0au6oAKKKKACiiigAooooAKKKKACiiigAooooAKKKKACiiigAooooAKKKKACiiigAooooAKKKKACiiigAooooAKKKKACiiigAooooAKKKKACiiigAooooAKKKKACiiigDzTxT/yXbwH/wBe97/6JauVuXi8YfEfxI2u+HNW8QWmlTraWVnayKIrfGQzspkTJYjIPPf0GPTtV8JNqXj3QPEwvRGukxzobfy8+b5iFc7s8YznoaztW8C6ivie48ReFtfOj3t4qi9hktlnhuSvCkgkFT2JH6c5AOMsLDVtI8D/ABC0+TS9R0/w/wDYJJdKgv5Fd4QYm8xAQzfLnBAz79SapXPw/wBKh+CkHidmuD4hh0yC9h1AXD74tqqyIozgAJhenv1r0n/hFtdvvDuu6brfiYX8up2zW8TJZLFHagqy5Cg5bO7Jyewqxc+EmuPhqvhH7aFYaalh9q8vI+VAu7bn2zjP40Aec+I/CNvZ/C8+NmnuT4vW3gvn1QTvvMjFSygAhQuCVAAAAxxWr8YzNqPh7wgYbg2c1zrdqUnRsGFmRsMD7E5/Cuy1vwm2sfD2TwsLwRM9pHbfafL3AbdvO3Pfb0z3rkfi9pKXei+DNHlmkWObXbS1eWI7WAKspZeuD3FAFHxh4W074bxaL4g8LedY3CajBb3UYuXYXsTFtyuCTubPP5+gxB4xn/4ST4tTaFqekanrGkaXZJMum2MioJJWwfNfLpkANt4J5+pz1cXw/wBV1LUNPm8WeKZNZttNmWe1to7NLdWlXOHlwSWIz0GBx7nN3xN4Hn1TXrfxFoWtSaLrcMJt3uFgWZJos52OjYB56H/AYAOY8EaXqOi+MdSj07w/qmj+FrqxL/Zr2RWWK6DdUAdsAqT+PsBWd8GfAekaj4M0fxFqsUl5exzO9iZJn22qpMSAqg4++rNz616HomjeJoL2a513xLHfxvAYktILJYY42JB35yWY8Y645qXwP4Zbwd4OsNBa7F2bXzP3wj2bt0jP0ycY3Y69qAPNtT0fwx4l1PXF0n4f6hr0wvZI7vUTerAvn5ywjd5OikgYAA9sdcXU5X8Qfswm/wBWY3d9p0wjguHfcwxcLHnIOD8jbc816BH8Otb09r6x0TxhLp+h3tw872oskeWLecukchPyg9jg46885taV8NLWy+Gl14Kurw3FvOZCJxHtK7n3KcEnlSAfwoAr654R0Hwx8NPFD6LpsVm1zpUvnFCx34jbGck+p/OmzkD9nYEkAf8ACMIOf+vYVtaR4Z1lNHv9J8TeIF1uzurf7MuLNbd1QqVbJVjkkEc+3vXMXPws1668OSeGZfG8zaCsRjgt/sCCQAf6tXkByyqQDgAZ6cdgDB8XW0178Lvhda21w9tPNd6ZHHOhw0bGHAYe4JzT/H2gab4LtNG0Dw5Y3cEfiC+SLUWtZyZ7qOPJ8sM7Y3N5h7jPTkcV3N74Da80Hwfpn9ohD4durO4Mnk58/wAhduMbvlz+OPetLxh4StfF+lRWstxLaXVtMtzZ3cP34Jl+6w9R6j+RwQAeZQ+HptI8R6Df+DfBGuaJJDdpHfmaZDFPanhww81skdRx79QK9uri9P8AD3jeO7tP7R8bxT2sEqvIsOlpHJcqDnazbiFB6HaOldpQB534bY3Hxt8ayTgCS2tbKCAHr5bJubH/AAKj4q3VxqdtpngjTpNl9r8+yRwM+TbJhpHI/ADHcbhVy90680j4r2Wu21rNPYataGwvTDGW8iRDujkbHRSMrk8Duea07Hwo0PjzUvFV5eC5mntktLSIR7RbQg5Zc5O4s3OeMc+tAGT8JdTuLrwaNJv8DUdDnfTLkZ/55nCke23Az3war/DL9zrXjq1i+a2TX5pVfPG9wC6/gQBWsvh9vDnijxB4stZJZ7e+s1efTYIC0kk0Q+VkIPJK5G3HJOc1F8M9DvNH8LPc6pH5eqatdS6neR4I8uSU524PIwoXI7HNAHZUUUUAFFFFABRRRQAUUUUAFFFFABRRRQAUUUUAFFFFABRRRQAUUUUAFFFFABRRRQAUUUUAFFFFABRRRQAUUUUAFFFFABRRRQAUUUUAFFFFABRRRQAUUUUAFFFFABRRRQAUUUUARyQRSvG8kSO0ZyjMoJU+o9KkoooAKKKKACiiigAooooAKKKKACiiigAooooAKKKKACiiigAooooAKKKKACiiigAooooAKKKKACiiigAooooAKKKKACiiigAooooAKKKKACiiigAooooAKKKKACiiigAooooAKKKKACiiigAooooAKKKKACiiigAooooAKKKKACiiigAooooAKhntbe6MRuIIpTE4kj8xA2xx0YZ6EetFFAE1FFFABRRRQAUUUUAFFFFABRRRQAUUUUAFFFFABRRRQAUUUUAFFFFABRRRQAUUUUAFFFFABRRRQAUUUUAFFFFAH//Z\" />"
      ],
      "text/plain": [
       "<IPython.core.display.HTML object>"
      ]
     },
     "metadata": {},
     "output_type": "display_data"
    }
   ],
   "source": [
    "plt_img_base64(docs[3])"
   ]
  },
  {
   "cell_type": "code",
   "execution_count": null,
   "id": "a47bf5b9-275a-427f-a4ec-3caf139fc945",
   "metadata": {},
   "outputs": [],
   "source": []
  },
  {
   "cell_type": "code",
   "execution_count": null,
   "id": "24110393-aab9-4741-8835-4461ee89d73f",
   "metadata": {},
   "outputs": [],
   "source": []
  },
  {
   "cell_type": "code",
   "execution_count": null,
   "id": "9870c30a-4538-4d12-a662-3c44e99fcede",
   "metadata": {},
   "outputs": [],
   "source": []
  },
  {
   "cell_type": "code",
   "execution_count": null,
   "id": "5595a2c4-0936-45ee-95b8-5c47e08f4a68",
   "metadata": {},
   "outputs": [],
   "source": []
  },
  {
   "cell_type": "code",
   "execution_count": null,
   "id": "50360df8-5e25-4842-9c13-e0f45f77c037",
   "metadata": {},
   "outputs": [],
   "source": []
  }
 ],
 "metadata": {
  "availableInstances": [
   {
    "_defaultOrder": 0,
    "_isFastLaunch": true,
    "category": "General purpose",
    "gpuNum": 0,
    "hideHardwareSpecs": false,
    "memoryGiB": 4,
    "name": "ml.t3.medium",
    "vcpuNum": 2
   },
   {
    "_defaultOrder": 1,
    "_isFastLaunch": false,
    "category": "General purpose",
    "gpuNum": 0,
    "hideHardwareSpecs": false,
    "memoryGiB": 8,
    "name": "ml.t3.large",
    "vcpuNum": 2
   },
   {
    "_defaultOrder": 2,
    "_isFastLaunch": false,
    "category": "General purpose",
    "gpuNum": 0,
    "hideHardwareSpecs": false,
    "memoryGiB": 16,
    "name": "ml.t3.xlarge",
    "vcpuNum": 4
   },
   {
    "_defaultOrder": 3,
    "_isFastLaunch": false,
    "category": "General purpose",
    "gpuNum": 0,
    "hideHardwareSpecs": false,
    "memoryGiB": 32,
    "name": "ml.t3.2xlarge",
    "vcpuNum": 8
   },
   {
    "_defaultOrder": 4,
    "_isFastLaunch": true,
    "category": "General purpose",
    "gpuNum": 0,
    "hideHardwareSpecs": false,
    "memoryGiB": 8,
    "name": "ml.m5.large",
    "vcpuNum": 2
   },
   {
    "_defaultOrder": 5,
    "_isFastLaunch": false,
    "category": "General purpose",
    "gpuNum": 0,
    "hideHardwareSpecs": false,
    "memoryGiB": 16,
    "name": "ml.m5.xlarge",
    "vcpuNum": 4
   },
   {
    "_defaultOrder": 6,
    "_isFastLaunch": false,
    "category": "General purpose",
    "gpuNum": 0,
    "hideHardwareSpecs": false,
    "memoryGiB": 32,
    "name": "ml.m5.2xlarge",
    "vcpuNum": 8
   },
   {
    "_defaultOrder": 7,
    "_isFastLaunch": false,
    "category": "General purpose",
    "gpuNum": 0,
    "hideHardwareSpecs": false,
    "memoryGiB": 64,
    "name": "ml.m5.4xlarge",
    "vcpuNum": 16
   },
   {
    "_defaultOrder": 8,
    "_isFastLaunch": false,
    "category": "General purpose",
    "gpuNum": 0,
    "hideHardwareSpecs": false,
    "memoryGiB": 128,
    "name": "ml.m5.8xlarge",
    "vcpuNum": 32
   },
   {
    "_defaultOrder": 9,
    "_isFastLaunch": false,
    "category": "General purpose",
    "gpuNum": 0,
    "hideHardwareSpecs": false,
    "memoryGiB": 192,
    "name": "ml.m5.12xlarge",
    "vcpuNum": 48
   },
   {
    "_defaultOrder": 10,
    "_isFastLaunch": false,
    "category": "General purpose",
    "gpuNum": 0,
    "hideHardwareSpecs": false,
    "memoryGiB": 256,
    "name": "ml.m5.16xlarge",
    "vcpuNum": 64
   },
   {
    "_defaultOrder": 11,
    "_isFastLaunch": false,
    "category": "General purpose",
    "gpuNum": 0,
    "hideHardwareSpecs": false,
    "memoryGiB": 384,
    "name": "ml.m5.24xlarge",
    "vcpuNum": 96
   },
   {
    "_defaultOrder": 12,
    "_isFastLaunch": false,
    "category": "General purpose",
    "gpuNum": 0,
    "hideHardwareSpecs": false,
    "memoryGiB": 8,
    "name": "ml.m5d.large",
    "vcpuNum": 2
   },
   {
    "_defaultOrder": 13,
    "_isFastLaunch": false,
    "category": "General purpose",
    "gpuNum": 0,
    "hideHardwareSpecs": false,
    "memoryGiB": 16,
    "name": "ml.m5d.xlarge",
    "vcpuNum": 4
   },
   {
    "_defaultOrder": 14,
    "_isFastLaunch": false,
    "category": "General purpose",
    "gpuNum": 0,
    "hideHardwareSpecs": false,
    "memoryGiB": 32,
    "name": "ml.m5d.2xlarge",
    "vcpuNum": 8
   },
   {
    "_defaultOrder": 15,
    "_isFastLaunch": false,
    "category": "General purpose",
    "gpuNum": 0,
    "hideHardwareSpecs": false,
    "memoryGiB": 64,
    "name": "ml.m5d.4xlarge",
    "vcpuNum": 16
   },
   {
    "_defaultOrder": 16,
    "_isFastLaunch": false,
    "category": "General purpose",
    "gpuNum": 0,
    "hideHardwareSpecs": false,
    "memoryGiB": 128,
    "name": "ml.m5d.8xlarge",
    "vcpuNum": 32
   },
   {
    "_defaultOrder": 17,
    "_isFastLaunch": false,
    "category": "General purpose",
    "gpuNum": 0,
    "hideHardwareSpecs": false,
    "memoryGiB": 192,
    "name": "ml.m5d.12xlarge",
    "vcpuNum": 48
   },
   {
    "_defaultOrder": 18,
    "_isFastLaunch": false,
    "category": "General purpose",
    "gpuNum": 0,
    "hideHardwareSpecs": false,
    "memoryGiB": 256,
    "name": "ml.m5d.16xlarge",
    "vcpuNum": 64
   },
   {
    "_defaultOrder": 19,
    "_isFastLaunch": false,
    "category": "General purpose",
    "gpuNum": 0,
    "hideHardwareSpecs": false,
    "memoryGiB": 384,
    "name": "ml.m5d.24xlarge",
    "vcpuNum": 96
   },
   {
    "_defaultOrder": 20,
    "_isFastLaunch": false,
    "category": "General purpose",
    "gpuNum": 0,
    "hideHardwareSpecs": true,
    "memoryGiB": 0,
    "name": "ml.geospatial.interactive",
    "supportedImageNames": [
     "sagemaker-geospatial-v1-0"
    ],
    "vcpuNum": 0
   },
   {
    "_defaultOrder": 21,
    "_isFastLaunch": true,
    "category": "Compute optimized",
    "gpuNum": 0,
    "hideHardwareSpecs": false,
    "memoryGiB": 4,
    "name": "ml.c5.large",
    "vcpuNum": 2
   },
   {
    "_defaultOrder": 22,
    "_isFastLaunch": false,
    "category": "Compute optimized",
    "gpuNum": 0,
    "hideHardwareSpecs": false,
    "memoryGiB": 8,
    "name": "ml.c5.xlarge",
    "vcpuNum": 4
   },
   {
    "_defaultOrder": 23,
    "_isFastLaunch": false,
    "category": "Compute optimized",
    "gpuNum": 0,
    "hideHardwareSpecs": false,
    "memoryGiB": 16,
    "name": "ml.c5.2xlarge",
    "vcpuNum": 8
   },
   {
    "_defaultOrder": 24,
    "_isFastLaunch": false,
    "category": "Compute optimized",
    "gpuNum": 0,
    "hideHardwareSpecs": false,
    "memoryGiB": 32,
    "name": "ml.c5.4xlarge",
    "vcpuNum": 16
   },
   {
    "_defaultOrder": 25,
    "_isFastLaunch": false,
    "category": "Compute optimized",
    "gpuNum": 0,
    "hideHardwareSpecs": false,
    "memoryGiB": 72,
    "name": "ml.c5.9xlarge",
    "vcpuNum": 36
   },
   {
    "_defaultOrder": 26,
    "_isFastLaunch": false,
    "category": "Compute optimized",
    "gpuNum": 0,
    "hideHardwareSpecs": false,
    "memoryGiB": 96,
    "name": "ml.c5.12xlarge",
    "vcpuNum": 48
   },
   {
    "_defaultOrder": 27,
    "_isFastLaunch": false,
    "category": "Compute optimized",
    "gpuNum": 0,
    "hideHardwareSpecs": false,
    "memoryGiB": 144,
    "name": "ml.c5.18xlarge",
    "vcpuNum": 72
   },
   {
    "_defaultOrder": 28,
    "_isFastLaunch": false,
    "category": "Compute optimized",
    "gpuNum": 0,
    "hideHardwareSpecs": false,
    "memoryGiB": 192,
    "name": "ml.c5.24xlarge",
    "vcpuNum": 96
   },
   {
    "_defaultOrder": 29,
    "_isFastLaunch": true,
    "category": "Accelerated computing",
    "gpuNum": 1,
    "hideHardwareSpecs": false,
    "memoryGiB": 16,
    "name": "ml.g4dn.xlarge",
    "vcpuNum": 4
   },
   {
    "_defaultOrder": 30,
    "_isFastLaunch": false,
    "category": "Accelerated computing",
    "gpuNum": 1,
    "hideHardwareSpecs": false,
    "memoryGiB": 32,
    "name": "ml.g4dn.2xlarge",
    "vcpuNum": 8
   },
   {
    "_defaultOrder": 31,
    "_isFastLaunch": false,
    "category": "Accelerated computing",
    "gpuNum": 1,
    "hideHardwareSpecs": false,
    "memoryGiB": 64,
    "name": "ml.g4dn.4xlarge",
    "vcpuNum": 16
   },
   {
    "_defaultOrder": 32,
    "_isFastLaunch": false,
    "category": "Accelerated computing",
    "gpuNum": 1,
    "hideHardwareSpecs": false,
    "memoryGiB": 128,
    "name": "ml.g4dn.8xlarge",
    "vcpuNum": 32
   },
   {
    "_defaultOrder": 33,
    "_isFastLaunch": false,
    "category": "Accelerated computing",
    "gpuNum": 4,
    "hideHardwareSpecs": false,
    "memoryGiB": 192,
    "name": "ml.g4dn.12xlarge",
    "vcpuNum": 48
   },
   {
    "_defaultOrder": 34,
    "_isFastLaunch": false,
    "category": "Accelerated computing",
    "gpuNum": 1,
    "hideHardwareSpecs": false,
    "memoryGiB": 256,
    "name": "ml.g4dn.16xlarge",
    "vcpuNum": 64
   },
   {
    "_defaultOrder": 35,
    "_isFastLaunch": false,
    "category": "Accelerated computing",
    "gpuNum": 1,
    "hideHardwareSpecs": false,
    "memoryGiB": 61,
    "name": "ml.p3.2xlarge",
    "vcpuNum": 8
   },
   {
    "_defaultOrder": 36,
    "_isFastLaunch": false,
    "category": "Accelerated computing",
    "gpuNum": 4,
    "hideHardwareSpecs": false,
    "memoryGiB": 244,
    "name": "ml.p3.8xlarge",
    "vcpuNum": 32
   },
   {
    "_defaultOrder": 37,
    "_isFastLaunch": false,
    "category": "Accelerated computing",
    "gpuNum": 8,
    "hideHardwareSpecs": false,
    "memoryGiB": 488,
    "name": "ml.p3.16xlarge",
    "vcpuNum": 64
   },
   {
    "_defaultOrder": 38,
    "_isFastLaunch": false,
    "category": "Accelerated computing",
    "gpuNum": 8,
    "hideHardwareSpecs": false,
    "memoryGiB": 768,
    "name": "ml.p3dn.24xlarge",
    "vcpuNum": 96
   },
   {
    "_defaultOrder": 39,
    "_isFastLaunch": false,
    "category": "Memory Optimized",
    "gpuNum": 0,
    "hideHardwareSpecs": false,
    "memoryGiB": 16,
    "name": "ml.r5.large",
    "vcpuNum": 2
   },
   {
    "_defaultOrder": 40,
    "_isFastLaunch": false,
    "category": "Memory Optimized",
    "gpuNum": 0,
    "hideHardwareSpecs": false,
    "memoryGiB": 32,
    "name": "ml.r5.xlarge",
    "vcpuNum": 4
   },
   {
    "_defaultOrder": 41,
    "_isFastLaunch": false,
    "category": "Memory Optimized",
    "gpuNum": 0,
    "hideHardwareSpecs": false,
    "memoryGiB": 64,
    "name": "ml.r5.2xlarge",
    "vcpuNum": 8
   },
   {
    "_defaultOrder": 42,
    "_isFastLaunch": false,
    "category": "Memory Optimized",
    "gpuNum": 0,
    "hideHardwareSpecs": false,
    "memoryGiB": 128,
    "name": "ml.r5.4xlarge",
    "vcpuNum": 16
   },
   {
    "_defaultOrder": 43,
    "_isFastLaunch": false,
    "category": "Memory Optimized",
    "gpuNum": 0,
    "hideHardwareSpecs": false,
    "memoryGiB": 256,
    "name": "ml.r5.8xlarge",
    "vcpuNum": 32
   },
   {
    "_defaultOrder": 44,
    "_isFastLaunch": false,
    "category": "Memory Optimized",
    "gpuNum": 0,
    "hideHardwareSpecs": false,
    "memoryGiB": 384,
    "name": "ml.r5.12xlarge",
    "vcpuNum": 48
   },
   {
    "_defaultOrder": 45,
    "_isFastLaunch": false,
    "category": "Memory Optimized",
    "gpuNum": 0,
    "hideHardwareSpecs": false,
    "memoryGiB": 512,
    "name": "ml.r5.16xlarge",
    "vcpuNum": 64
   },
   {
    "_defaultOrder": 46,
    "_isFastLaunch": false,
    "category": "Memory Optimized",
    "gpuNum": 0,
    "hideHardwareSpecs": false,
    "memoryGiB": 768,
    "name": "ml.r5.24xlarge",
    "vcpuNum": 96
   },
   {
    "_defaultOrder": 47,
    "_isFastLaunch": false,
    "category": "Accelerated computing",
    "gpuNum": 1,
    "hideHardwareSpecs": false,
    "memoryGiB": 16,
    "name": "ml.g5.xlarge",
    "vcpuNum": 4
   },
   {
    "_defaultOrder": 48,
    "_isFastLaunch": false,
    "category": "Accelerated computing",
    "gpuNum": 1,
    "hideHardwareSpecs": false,
    "memoryGiB": 32,
    "name": "ml.g5.2xlarge",
    "vcpuNum": 8
   },
   {
    "_defaultOrder": 49,
    "_isFastLaunch": false,
    "category": "Accelerated computing",
    "gpuNum": 1,
    "hideHardwareSpecs": false,
    "memoryGiB": 64,
    "name": "ml.g5.4xlarge",
    "vcpuNum": 16
   },
   {
    "_defaultOrder": 50,
    "_isFastLaunch": false,
    "category": "Accelerated computing",
    "gpuNum": 1,
    "hideHardwareSpecs": false,
    "memoryGiB": 128,
    "name": "ml.g5.8xlarge",
    "vcpuNum": 32
   },
   {
    "_defaultOrder": 51,
    "_isFastLaunch": false,
    "category": "Accelerated computing",
    "gpuNum": 1,
    "hideHardwareSpecs": false,
    "memoryGiB": 256,
    "name": "ml.g5.16xlarge",
    "vcpuNum": 64
   },
   {
    "_defaultOrder": 52,
    "_isFastLaunch": false,
    "category": "Accelerated computing",
    "gpuNum": 4,
    "hideHardwareSpecs": false,
    "memoryGiB": 192,
    "name": "ml.g5.12xlarge",
    "vcpuNum": 48
   },
   {
    "_defaultOrder": 53,
    "_isFastLaunch": false,
    "category": "Accelerated computing",
    "gpuNum": 4,
    "hideHardwareSpecs": false,
    "memoryGiB": 384,
    "name": "ml.g5.24xlarge",
    "vcpuNum": 96
   },
   {
    "_defaultOrder": 54,
    "_isFastLaunch": false,
    "category": "Accelerated computing",
    "gpuNum": 8,
    "hideHardwareSpecs": false,
    "memoryGiB": 768,
    "name": "ml.g5.48xlarge",
    "vcpuNum": 192
   },
   {
    "_defaultOrder": 55,
    "_isFastLaunch": false,
    "category": "Accelerated computing",
    "gpuNum": 8,
    "hideHardwareSpecs": false,
    "memoryGiB": 1152,
    "name": "ml.p4d.24xlarge",
    "vcpuNum": 96
   },
   {
    "_defaultOrder": 56,
    "_isFastLaunch": false,
    "category": "Accelerated computing",
    "gpuNum": 8,
    "hideHardwareSpecs": false,
    "memoryGiB": 1152,
    "name": "ml.p4de.24xlarge",
    "vcpuNum": 96
   },
   {
    "_defaultOrder": 57,
    "_isFastLaunch": false,
    "category": "Accelerated computing",
    "gpuNum": 0,
    "hideHardwareSpecs": false,
    "memoryGiB": 32,
    "name": "ml.trn1.2xlarge",
    "vcpuNum": 8
   },
   {
    "_defaultOrder": 58,
    "_isFastLaunch": false,
    "category": "Accelerated computing",
    "gpuNum": 0,
    "hideHardwareSpecs": false,
    "memoryGiB": 512,
    "name": "ml.trn1.32xlarge",
    "vcpuNum": 128
   },
   {
    "_defaultOrder": 59,
    "_isFastLaunch": false,
    "category": "Accelerated computing",
    "gpuNum": 0,
    "hideHardwareSpecs": false,
    "memoryGiB": 512,
    "name": "ml.trn1n.32xlarge",
    "vcpuNum": 128
   }
  ],
  "instance_type": "ml.g5.2xlarge",
  "kernelspec": {
   "display_name": "Python 3 (Data Science 3.0)",
   "language": "python",
   "name": "python3__SAGEMAKER_INTERNAL__arn:aws:sagemaker:us-west-2:236514542706:image/sagemaker-data-science-310-v1"
  },
  "language_info": {
   "codemirror_mode": {
    "name": "ipython",
    "version": 3
   },
   "file_extension": ".py",
   "mimetype": "text/x-python",
   "name": "python",
   "nbconvert_exporter": "python",
   "pygments_lexer": "ipython3",
   "version": "3.10.6"
  }
 },
 "nbformat": 4,
 "nbformat_minor": 5
}
